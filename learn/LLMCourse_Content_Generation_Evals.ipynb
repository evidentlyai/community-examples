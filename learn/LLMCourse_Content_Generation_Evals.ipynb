{
 "cells": [
  {
   "cell_type": "markdown",
   "id": "eab3eff6-f47f-4d94-aa8a-ecc6bc481048",
   "metadata": {},
   "source": [
    "# Evaluating LLMs on a Content Generation Task"
   ]
  },
  {
   "cell_type": "markdown",
   "id": "6cf486f7-e148-466d-8e04-1845931fca87",
   "metadata": {},
   "source": [
    "* docs: https://docs.evidentlyai.com/introduction\n",
    "* repo: https://github.com/evidentlyai/evidently/"
   ]
  },
  {
   "cell_type": "code",
   "execution_count": null,
   "id": "bcca2286-b128-4c8f-8e0b-358726dc0f57",
   "metadata": {},
   "outputs": [],
   "source": [
    "#! pip install openai"
   ]
  },
  {
   "cell_type": "code",
   "execution_count": 1,
   "id": "cee248f7-b453-46d6-90ba-7cb43f77c6e5",
   "metadata": {},
   "outputs": [],
   "source": [
    "from openai import OpenAI\n",
    "import pandas as pd"
   ]
  },
  {
   "cell_type": "code",
   "execution_count": 2,
   "id": "10a6e281-6655-4e9d-bd7a-d04cdc83b10d",
   "metadata": {},
   "outputs": [],
   "source": [
    "my_topics = [\n",
    "    \"testing in AI engineering is as important as in development\",\n",
    "    \"CI/CD is applicable in AI\",\n",
    "    \"Collaboration of subject matter experts and AI engineers improves product\",\n",
    "    \"Start LLM apps development from test cases generation\",\n",
    "    \"evidently is agreat for LLM testing, use it\"\n",
    "]"
   ]
  },
  {
   "cell_type": "code",
   "execution_count": 3,
   "id": "5a3fedbb-3044-449b-aeb8-3a1e8a78a34e",
   "metadata": {},
   "outputs": [],
   "source": [
    "OA_client = OpenAI()"
   ]
  },
  {
   "cell_type": "markdown",
   "id": "ef375be3-b784-4b3e-a67f-afc15cf6d90a",
   "metadata": {},
   "source": [
    "## Basic content generation"
   ]
  },
  {
   "cell_type": "code",
   "execution_count": 4,
   "id": "ad7fada1-6bf0-48dd-a9f4-72dfebb400b7",
   "metadata": {},
   "outputs": [],
   "source": [
    "response = OA_client.responses.create(\n",
    "        model=\"gpt-4o-mini\",\n",
    "        input=f\"Write a paragraph about {my_topics[0]}\"\n",
    "    )\n",
    "\n",
    "text = response"
   ]
  },
  {
   "cell_type": "code",
   "execution_count": 6,
   "id": "10e9fe36-6398-4f71-8b3c-7df23c3c4da3",
   "metadata": {},
   "outputs": [
    {
     "data": {
      "text/plain": [
       "'Testing in AI engineering is as critical as in traditional software development, as it ensures the reliability, accuracy, and fairness of AI models. In AI systems, where complex algorithms interact with vast datasets, rigorous testing helps identify biases, mitigate errors, and validate performance against intended outcomes. Just as traditional software undergoes unit and integration testing, AI models require specialized approaches, such as validation of training data, performance assessments on unseen datasets, and ethical evaluations. This thorough testing process is essential not only to enhance the functionality of AI applications but also to foster trust among users, ensuring that AI technologies are safe, responsible, and effective in real-world scenarios.'"
      ]
     },
     "execution_count": 6,
     "metadata": {},
     "output_type": "execute_result"
    }
   ],
   "source": [
    "text.output_text"
   ]
  },
  {
   "cell_type": "code",
   "execution_count": 7,
   "id": "1399afa8-b388-4b52-aa46-e6ab0f156d0e",
   "metadata": {},
   "outputs": [],
   "source": [
    "def basic_tweet_generation(model, topic):\n",
    "    response = OA_client.responses.create(\n",
    "        model=model,\n",
    "        input=f\"Write a paragraph about {topic}\"\n",
    "    )\n",
    "\n",
    "    text = response.output_text\n",
    "    return text"
   ]
  },
  {
   "cell_type": "code",
   "execution_count": 8,
   "id": "4457dacc-1a69-45c8-8d77-88842bc0ce49",
   "metadata": {},
   "outputs": [
    {
     "data": {
      "text/plain": [
       "\"Evidently is a powerful tool for conducting LLM testing due to its comprehensive features and user-friendly interface. With Evidently, users can easily upload their machine learning models, evaluate their performance, and gain insights into the model's behavior. The platform offers a range of statistical tests and visualization tools that allow users to thoroughly analyze the model's predictions and make informed decisions about its optimization. Moreover, Evidently provides detailed reports that highlight key metrics and performance indicators, making it an essential resource for researchers, data scientists, and developers looking to enhance their machine learning models.\""
      ]
     },
     "execution_count": 8,
     "metadata": {},
     "output_type": "execute_result"
    }
   ],
   "source": [
    "basic_tweet_generation(\"gpt-3.5-turbo\", my_topics[-1])"
   ]
  },
  {
   "cell_type": "markdown",
   "id": "ec9db106-6516-4e0a-a8a4-0d3fe82ee6dd",
   "metadata": {},
   "source": [
    "## Tracing and Evaluation"
   ]
  },
  {
   "cell_type": "code",
   "execution_count": null,
   "id": "94a7b0dd-4d70-481f-8b83-90dd8e8c144a",
   "metadata": {},
   "outputs": [],
   "source": [
    "#! pip install tracely"
   ]
  },
  {
   "cell_type": "code",
   "execution_count": null,
   "id": "13d9d9c8-fd2f-41d3-8342-4441480bef0b",
   "metadata": {},
   "outputs": [],
   "source": [
    "#! pip install evidently"
   ]
  },
  {
   "cell_type": "code",
   "execution_count": 10,
   "id": "9eab5b67-4052-4902-99b1-3800ce6fea7f",
   "metadata": {},
   "outputs": [],
   "source": [
    "from evidently.ui.workspace import CloudWorkspace\n",
    "\n",
    "from evidently import Dataset, DataDefinition, Report\n",
    "from evidently.descriptors import *\n",
    "from evidently.presets import TextEvals\n",
    "from evidently.llm.templates import BinaryClassificationPromptTemplate"
   ]
  },
  {
   "cell_type": "code",
   "execution_count": 9,
   "id": "4061ad24-6667-476e-a732-b4807371bad8",
   "metadata": {},
   "outputs": [],
   "source": [
    "from tracely import init_tracing\n",
    "from tracely import trace_event"
   ]
  },
  {
   "cell_type": "code",
   "execution_count": 11,
   "id": "64d38f08-f197-4f76-9f1d-e597fc6edeeb",
   "metadata": {},
   "outputs": [],
   "source": [
    "client = CloudWorkspace(url=\"https://app.evidently.cloud/\")"
   ]
  },
  {
   "cell_type": "code",
   "execution_count": 12,
   "id": "59825687-fdad-4d51-b26d-248cc1ba8cc6",
   "metadata": {},
   "outputs": [],
   "source": [
    "project = client.create_project(\"[LLM Course] Content Generation\",  org_id = \"fd72dd71-e4ef-46dd-87cf-da6bb75b825e\")"
   ]
  },
  {
   "cell_type": "code",
   "execution_count": 13,
   "id": "4e2ba3a5-3f59-425a-b967-f3d627efe68b",
   "metadata": {},
   "outputs": [
    {
     "data": {
      "text/plain": [
       "<opentelemetry.sdk.trace.TracerProvider at 0x304656fd0>"
      ]
     },
     "execution_count": 13,
     "metadata": {},
     "output_type": "execute_result"
    }
   ],
   "source": [
    "init_tracing(\n",
    "    project_id=str(project.id), # Project ID from Evidently Cloud\n",
    "    export_name=\"content generation\",\n",
    ")"
   ]
  },
  {
   "cell_type": "code",
   "execution_count": 16,
   "id": "1ae41329-f66f-48a1-b778-6cb179e1ec42",
   "metadata": {},
   "outputs": [],
   "source": [
    "@trace_event()\n",
    "def basic_tweet_generation(topic, model=\"gpt-3.5-turbo\", instructions=\"\"):\n",
    "    response = OA_client.responses.create(\n",
    "        instructions=instructions,\n",
    "        model=model,\n",
    "        input=f\"Write a paragraph about {topic}\"\n",
    "    )\n",
    "\n",
    "    text = response.output_text\n",
    "    return text"
   ]
  },
  {
   "cell_type": "code",
   "execution_count": 17,
   "id": "1dcfeac6-7a98-4983-99cb-dff5d2065641",
   "metadata": {},
   "outputs": [],
   "source": [
    "basic_tweets = [basic_tweet_generation(topic, model=\"gpt-3.5-turbo\", instructions=\"\") for topic in my_topics]"
   ]
  },
  {
   "cell_type": "code",
   "execution_count": 18,
   "id": "6e4c8ca9-dd25-4a21-ab71-13511bf47521",
   "metadata": {},
   "outputs": [
    {
     "data": {
      "text/plain": [
       "['Testing in AI engineering is just as crucial as in development, if not more so. The complexity of AI systems and their reliance on massive amounts of data make them prone to errors and unexpected outcomes. Testing helps ensure the reliability, accuracy, and safety of AI models before they are deployed in real-world applications. By conducting thorough testing, AI engineers can identify and correct any issues or biases in the models, improve their performance, and build trust among users. In addition, effective testing in AI engineering helps streamline the development process, minimize risks, and ultimately enhance the overall quality of AI systems.',\n",
       " 'Continuous Integration/Continuous Deployment (CI/CD) is highly applicable in the field of Artificial Intelligence (AI) due to the iterative nature of AI development. AI models require constant updates, enhancements, and optimizations based on new data and feedback. Implementing CI/CD practices in AI development ensures that changes and improvements can be made quickly and efficiently, leading to faster deployment of new AI models. With CI/CD, developers can automate the testing, integration, and deployment processes, reducing the time and effort required to bring AI solutions to production. This agile approach enables AI teams to deliver high-quality models that continuously evolve to meet the changing needs of users and the environment.',\n",
       " \"Collaboration between subject matter experts and AI engineers is essential in improving a product's overall performance and functionality. Subject matter experts bring valuable domain knowledge and insights that help in understanding the specific requirements and challenges of the product. On the other hand, AI engineers leverage their technical skills and expertise to design and develop AI solutions that can enhance the product's capabilities. By working together, they can combine their strengths to create innovative solutions that meet the needs of users and drive the success of the product. The collaboration between subject matter experts and AI engineers results in a more robust and effective product that delivers superior performance and user experience.\",\n",
       " \"Start LLM Apps Development always begins with the crucial step of generating test cases. Test cases are essential for ensuring the functionality and efficiency of the app, as they help identify potential bugs and issues early on in the development process. By systematically creating and executing test cases, developers can validate the app's features, functionality, and user experience, ultimately improving the quality of the final product. Test cases also serve as a blueprint for the development process, guiding developers on what functionalities need to be implemented and tested. In essence, the meticulous process of generating test cases sets the foundation for a successful LLM app development project, ensuring that the end product meets high standards of quality and performance.\",\n",
       " 'Evidently is a fantastic tool for conducting LLM (Language Model Testing) due to its user-friendly interface, comprehensive feature set, and reliability. The platform allows testers to easily input and analyze text data, identify patterns and correlations, and generate insights into language usage and behavior. Additionally, Evidently offers advanced visualization tools that help users interpret and communicate their findings effectively. Its flexibility in handling different types of data makes it a valuable resource for testing and fine-tuning language models, ensuring accuracy and efficiency in model development and deployment. Overall, Evidently is an indispensable tool for LLM testing, enabling researchers and developers to make informed decisions and optimize the performance of their language models.']"
      ]
     },
     "execution_count": 18,
     "metadata": {},
     "output_type": "execute_result"
    }
   ],
   "source": [
    "basic_tweets"
   ]
  },
  {
   "cell_type": "code",
   "execution_count": 19,
   "id": "89e5e5ca-ea5a-4d81-91a8-c9995c4c5714",
   "metadata": {},
   "outputs": [],
   "source": [
    "dataset = client.load_dataset(\"0196e7e5-948b-71d9-b21d-e9213560262f\")"
   ]
  },
  {
   "cell_type": "code",
   "execution_count": 20,
   "id": "4fb117ee-4a93-49cd-93f4-ae7f5b38c499",
   "metadata": {},
   "outputs": [
    {
     "data": {
      "text/plain": [
       "DataDefinition(id_column=None, timestamp='timestamp', service_columns=ServiceColumns(trace_link='_evidently_trace_link'), numerical_columns=[], categorical_columns=['basic_tweet_generation.model', 'basic_tweet_generation.instructions'], text_columns=['id', 'service_name', 'basic_tweet_generation.topic', 'basic_tweet_generation.result'], datetime_columns=[], classification=None, regression=None, llm=None, numerical_descriptors=[], categorical_descriptors=[], test_descriptors=None, ranking=None)"
      ]
     },
     "execution_count": 20,
     "metadata": {},
     "output_type": "execute_result"
    }
   ],
   "source": [
    "dataset.data_definition"
   ]
  },
  {
   "cell_type": "code",
   "execution_count": 21,
   "id": "09e464d4-26f1-47a2-b09e-dfefac08937e",
   "metadata": {
    "scrolled": true
   },
   "outputs": [
    {
     "data": {
      "text/html": [
       "<div>\n",
       "<style scoped>\n",
       "    .dataframe tbody tr th:only-of-type {\n",
       "        vertical-align: middle;\n",
       "    }\n",
       "\n",
       "    .dataframe tbody tr th {\n",
       "        vertical-align: top;\n",
       "    }\n",
       "\n",
       "    .dataframe thead th {\n",
       "        text-align: right;\n",
       "    }\n",
       "</style>\n",
       "<table border=\"1\" class=\"dataframe\">\n",
       "  <thead>\n",
       "    <tr style=\"text-align: right;\">\n",
       "      <th></th>\n",
       "      <th>id</th>\n",
       "      <th>service_name</th>\n",
       "      <th>timestamp</th>\n",
       "      <th>_evidently_trace_link</th>\n",
       "      <th>basic_tweet_generation.topic</th>\n",
       "      <th>basic_tweet_generation.model</th>\n",
       "      <th>basic_tweet_generation.instructions</th>\n",
       "      <th>basic_tweet_generation.result</th>\n",
       "    </tr>\n",
       "  </thead>\n",
       "  <tbody>\n",
       "    <tr>\n",
       "      <th>0</th>\n",
       "      <td>3245b5a5-b901-6c54-ad25-7de79cb3e6bc</td>\n",
       "      <td>unknown_service</td>\n",
       "      <td>2025-05-19 09:38:43.723715</td>\n",
       "      <td>0196e7e5-948b-71d9-b21d-e9213560262f/3245b5a5-...</td>\n",
       "      <td>Collaboration of subject matter experts and AI...</td>\n",
       "      <td>gpt-3.5-turbo</td>\n",
       "      <td></td>\n",
       "      <td>Collaboration between subject matter experts a...</td>\n",
       "    </tr>\n",
       "    <tr>\n",
       "      <th>1</th>\n",
       "      <td>6bce4626-b31e-2dc6-fd9d-4500e0406b64</td>\n",
       "      <td>None</td>\n",
       "      <td>2025-05-19 09:38:45.886141</td>\n",
       "      <td>0196e7e5-948b-71d9-b21d-e9213560262f/6bce4626-...</td>\n",
       "      <td>Start LLM apps development from test cases gen...</td>\n",
       "      <td>gpt-3.5-turbo</td>\n",
       "      <td></td>\n",
       "      <td>Start LLM Apps Development always begins with ...</td>\n",
       "    </tr>\n",
       "    <tr>\n",
       "      <th>2</th>\n",
       "      <td>772a561a-afb0-1dd8-9e3d-18967520d04b</td>\n",
       "      <td>None</td>\n",
       "      <td>2025-05-19 09:38:47.938784</td>\n",
       "      <td>0196e7e5-948b-71d9-b21d-e9213560262f/772a561a-...</td>\n",
       "      <td>evidently is agreat for LLM testing, use it</td>\n",
       "      <td>gpt-3.5-turbo</td>\n",
       "      <td></td>\n",
       "      <td>Evidently is a fantastic tool for conducting L...</td>\n",
       "    </tr>\n",
       "    <tr>\n",
       "      <th>3</th>\n",
       "      <td>a95e9e1d-c1ef-a1c2-236c-cae8818d0c6e</td>\n",
       "      <td>None</td>\n",
       "      <td>2025-05-19 09:38:40.504285</td>\n",
       "      <td>0196e7e5-948b-71d9-b21d-e9213560262f/a95e9e1d-...</td>\n",
       "      <td>CI/CD is applicable in AI</td>\n",
       "      <td>gpt-3.5-turbo</td>\n",
       "      <td></td>\n",
       "      <td>Continuous Integration/Continuous Deployment (...</td>\n",
       "    </tr>\n",
       "    <tr>\n",
       "      <th>4</th>\n",
       "      <td>cc1fb1c7-d989-3aa8-42d1-bc5f4c13a7cc</td>\n",
       "      <td>None</td>\n",
       "      <td>2025-05-19 09:38:38.687509</td>\n",
       "      <td>0196e7e5-948b-71d9-b21d-e9213560262f/cc1fb1c7-...</td>\n",
       "      <td>testing in AI engineering is as important as i...</td>\n",
       "      <td>gpt-3.5-turbo</td>\n",
       "      <td></td>\n",
       "      <td>Testing in AI engineering is just as crucial a...</td>\n",
       "    </tr>\n",
       "  </tbody>\n",
       "</table>\n",
       "</div>"
      ],
      "text/plain": [
       "                                     id     service_name  \\\n",
       "0  3245b5a5-b901-6c54-ad25-7de79cb3e6bc  unknown_service   \n",
       "1  6bce4626-b31e-2dc6-fd9d-4500e0406b64             None   \n",
       "2  772a561a-afb0-1dd8-9e3d-18967520d04b             None   \n",
       "3  a95e9e1d-c1ef-a1c2-236c-cae8818d0c6e             None   \n",
       "4  cc1fb1c7-d989-3aa8-42d1-bc5f4c13a7cc             None   \n",
       "\n",
       "                   timestamp  \\\n",
       "0 2025-05-19 09:38:43.723715   \n",
       "1 2025-05-19 09:38:45.886141   \n",
       "2 2025-05-19 09:38:47.938784   \n",
       "3 2025-05-19 09:38:40.504285   \n",
       "4 2025-05-19 09:38:38.687509   \n",
       "\n",
       "                               _evidently_trace_link  \\\n",
       "0  0196e7e5-948b-71d9-b21d-e9213560262f/3245b5a5-...   \n",
       "1  0196e7e5-948b-71d9-b21d-e9213560262f/6bce4626-...   \n",
       "2  0196e7e5-948b-71d9-b21d-e9213560262f/772a561a-...   \n",
       "3  0196e7e5-948b-71d9-b21d-e9213560262f/a95e9e1d-...   \n",
       "4  0196e7e5-948b-71d9-b21d-e9213560262f/cc1fb1c7-...   \n",
       "\n",
       "                        basic_tweet_generation.topic  \\\n",
       "0  Collaboration of subject matter experts and AI...   \n",
       "1  Start LLM apps development from test cases gen...   \n",
       "2        evidently is agreat for LLM testing, use it   \n",
       "3                          CI/CD is applicable in AI   \n",
       "4  testing in AI engineering is as important as i...   \n",
       "\n",
       "  basic_tweet_generation.model basic_tweet_generation.instructions  \\\n",
       "0                gpt-3.5-turbo                                       \n",
       "1                gpt-3.5-turbo                                       \n",
       "2                gpt-3.5-turbo                                       \n",
       "3                gpt-3.5-turbo                                       \n",
       "4                gpt-3.5-turbo                                       \n",
       "\n",
       "                       basic_tweet_generation.result  \n",
       "0  Collaboration between subject matter experts a...  \n",
       "1  Start LLM Apps Development always begins with ...  \n",
       "2  Evidently is a fantastic tool for conducting L...  \n",
       "3  Continuous Integration/Continuous Deployment (...  \n",
       "4  Testing in AI engineering is just as crucial a...  "
      ]
     },
     "execution_count": 21,
     "metadata": {},
     "output_type": "execute_result"
    }
   ],
   "source": [
    "dataset.as_dataframe()"
   ]
  },
  {
   "cell_type": "code",
   "execution_count": 22,
   "id": "c1afd5d7-c97f-4b47-8103-79deaa4172b6",
   "metadata": {},
   "outputs": [],
   "source": [
    "tweet_quality = BinaryClassificationPromptTemplate(\n",
    "    pre_messages = [(\"system\",\"You are evaluating the quality of tweets\")],\n",
    "    criteria=\"\"\"\n",
    "        Text is ENGAGING if it meets at least one of the following:\n",
    "            •        Contains a strong hook (e.g. question, surprise, bold statement)\n",
    "            •        Uses emotion, humor, or opinion\n",
    "            •        Encourages interaction (calls to action, second-person voice like “you”)\n",
    "            •        Demonstrates personality or a distinct tone\n",
    "            •        Includes vivid language, metaphors, or emojis\n",
    "            •        Sparks curiosity or gives a new insight\n",
    "\n",
    "        Text is NEUTRAL if it:\n",
    "            •        Merely states a fact or observation without emotion or opinion\n",
    "            •        Lacks clear personality, tone, or call to action\n",
    "            •        Uses generic language with no rhetorical style\n",
    "            •        Reads like an internal note, report, or placeholder\n",
    "        \"\"\",\n",
    "    target_category=\"ENGAGING\",\n",
    "    non_target_category=\"NEUTRAL\",\n",
    "    uncertainty=\"non_target\",\n",
    "    include_reasoning=True,\n",
    ")"
   ]
  },
  {
   "cell_type": "code",
   "execution_count": 23,
   "id": "e8c4b689-cb36-4e8b-bdce-df5398898136",
   "metadata": {},
   "outputs": [],
   "source": [
    "descriptors = [\n",
    "    TextLength(\"basic_tweet_generation.result\", alias=\"Length\"),\n",
    "    Sentiment(\"basic_tweet_generation.result\", alias=\"Sentiment\"),\n",
    "    LLMEval(\"basic_tweet_generation.result\", template=tweet_quality,\n",
    "           provider=\"openai\", model=\"gpt-4o-mini\",\n",
    "           alias=\"Tweet quality\")\n",
    "]"
   ]
  },
  {
   "cell_type": "code",
   "execution_count": 24,
   "id": "51d6a450-224a-4593-b571-841ad77875bc",
   "metadata": {},
   "outputs": [],
   "source": [
    "dataset.add_descriptors(descriptors=descriptors)"
   ]
  },
  {
   "cell_type": "code",
   "execution_count": 25,
   "id": "2f6422c5-445f-4144-8fb2-4b96689da9fa",
   "metadata": {},
   "outputs": [
    {
     "data": {
      "text/html": [
       "<div>\n",
       "<style scoped>\n",
       "    .dataframe tbody tr th:only-of-type {\n",
       "        vertical-align: middle;\n",
       "    }\n",
       "\n",
       "    .dataframe tbody tr th {\n",
       "        vertical-align: top;\n",
       "    }\n",
       "\n",
       "    .dataframe thead th {\n",
       "        text-align: right;\n",
       "    }\n",
       "</style>\n",
       "<table border=\"1\" class=\"dataframe\">\n",
       "  <thead>\n",
       "    <tr style=\"text-align: right;\">\n",
       "      <th></th>\n",
       "      <th>id</th>\n",
       "      <th>service_name</th>\n",
       "      <th>timestamp</th>\n",
       "      <th>_evidently_trace_link</th>\n",
       "      <th>basic_tweet_generation.topic</th>\n",
       "      <th>basic_tweet_generation.model</th>\n",
       "      <th>basic_tweet_generation.instructions</th>\n",
       "      <th>basic_tweet_generation.result</th>\n",
       "      <th>Length</th>\n",
       "      <th>Sentiment</th>\n",
       "      <th>Tweet quality</th>\n",
       "      <th>Tweet quality reasoning</th>\n",
       "    </tr>\n",
       "  </thead>\n",
       "  <tbody>\n",
       "    <tr>\n",
       "      <th>0</th>\n",
       "      <td>3245b5a5-b901-6c54-ad25-7de79cb3e6bc</td>\n",
       "      <td>unknown_service</td>\n",
       "      <td>2025-05-19 09:38:43.723715</td>\n",
       "      <td>0196e7e5-948b-71d9-b21d-e9213560262f/3245b5a5-...</td>\n",
       "      <td>Collaboration of subject matter experts and AI...</td>\n",
       "      <td>gpt-3.5-turbo</td>\n",
       "      <td></td>\n",
       "      <td>Collaboration between subject matter experts a...</td>\n",
       "      <td>769</td>\n",
       "      <td>0.9870</td>\n",
       "      <td>NEUTRAL</td>\n",
       "      <td>The text primarily states facts about collabor...</td>\n",
       "    </tr>\n",
       "    <tr>\n",
       "      <th>1</th>\n",
       "      <td>6bce4626-b31e-2dc6-fd9d-4500e0406b64</td>\n",
       "      <td>None</td>\n",
       "      <td>2025-05-19 09:38:45.886141</td>\n",
       "      <td>0196e7e5-948b-71d9-b21d-e9213560262f/6bce4626-...</td>\n",
       "      <td>Start LLM apps development from test cases gen...</td>\n",
       "      <td>gpt-3.5-turbo</td>\n",
       "      <td></td>\n",
       "      <td>Start LLM Apps Development always begins with ...</td>\n",
       "      <td>793</td>\n",
       "      <td>0.9565</td>\n",
       "      <td>NEUTRAL</td>\n",
       "      <td>The text merely states the facts about the imp...</td>\n",
       "    </tr>\n",
       "    <tr>\n",
       "      <th>2</th>\n",
       "      <td>772a561a-afb0-1dd8-9e3d-18967520d04b</td>\n",
       "      <td>None</td>\n",
       "      <td>2025-05-19 09:38:47.938784</td>\n",
       "      <td>0196e7e5-948b-71d9-b21d-e9213560262f/772a561a-...</td>\n",
       "      <td>evidently is agreat for LLM testing, use it</td>\n",
       "      <td>gpt-3.5-turbo</td>\n",
       "      <td></td>\n",
       "      <td>Evidently is a fantastic tool for conducting L...</td>\n",
       "      <td>817</td>\n",
       "      <td>0.9774</td>\n",
       "      <td>NEUTRAL</td>\n",
       "      <td>The text primarily provides a factual descript...</td>\n",
       "    </tr>\n",
       "    <tr>\n",
       "      <th>3</th>\n",
       "      <td>a95e9e1d-c1ef-a1c2-236c-cae8818d0c6e</td>\n",
       "      <td>None</td>\n",
       "      <td>2025-05-19 09:38:40.504285</td>\n",
       "      <td>0196e7e5-948b-71d9-b21d-e9213560262f/a95e9e1d-...</td>\n",
       "      <td>CI/CD is applicable in AI</td>\n",
       "      <td>gpt-3.5-turbo</td>\n",
       "      <td></td>\n",
       "      <td>Continuous Integration/Continuous Deployment (...</td>\n",
       "      <td>747</td>\n",
       "      <td>0.8658</td>\n",
       "      <td>NEUTRAL</td>\n",
       "      <td>The text primarily presents factual informatio...</td>\n",
       "    </tr>\n",
       "    <tr>\n",
       "      <th>4</th>\n",
       "      <td>cc1fb1c7-d989-3aa8-42d1-bc5f4c13a7cc</td>\n",
       "      <td>None</td>\n",
       "      <td>2025-05-19 09:38:38.687509</td>\n",
       "      <td>0196e7e5-948b-71d9-b21d-e9213560262f/cc1fb1c7-...</td>\n",
       "      <td>testing in AI engineering is as important as i...</td>\n",
       "      <td>gpt-3.5-turbo</td>\n",
       "      <td></td>\n",
       "      <td>Testing in AI engineering is just as crucial a...</td>\n",
       "      <td>657</td>\n",
       "      <td>0.9371</td>\n",
       "      <td>NEUTRAL</td>\n",
       "      <td>The text primarily states facts and observatio...</td>\n",
       "    </tr>\n",
       "  </tbody>\n",
       "</table>\n",
       "</div>"
      ],
      "text/plain": [
       "                                     id     service_name  \\\n",
       "0  3245b5a5-b901-6c54-ad25-7de79cb3e6bc  unknown_service   \n",
       "1  6bce4626-b31e-2dc6-fd9d-4500e0406b64             None   \n",
       "2  772a561a-afb0-1dd8-9e3d-18967520d04b             None   \n",
       "3  a95e9e1d-c1ef-a1c2-236c-cae8818d0c6e             None   \n",
       "4  cc1fb1c7-d989-3aa8-42d1-bc5f4c13a7cc             None   \n",
       "\n",
       "                   timestamp  \\\n",
       "0 2025-05-19 09:38:43.723715   \n",
       "1 2025-05-19 09:38:45.886141   \n",
       "2 2025-05-19 09:38:47.938784   \n",
       "3 2025-05-19 09:38:40.504285   \n",
       "4 2025-05-19 09:38:38.687509   \n",
       "\n",
       "                               _evidently_trace_link  \\\n",
       "0  0196e7e5-948b-71d9-b21d-e9213560262f/3245b5a5-...   \n",
       "1  0196e7e5-948b-71d9-b21d-e9213560262f/6bce4626-...   \n",
       "2  0196e7e5-948b-71d9-b21d-e9213560262f/772a561a-...   \n",
       "3  0196e7e5-948b-71d9-b21d-e9213560262f/a95e9e1d-...   \n",
       "4  0196e7e5-948b-71d9-b21d-e9213560262f/cc1fb1c7-...   \n",
       "\n",
       "                        basic_tweet_generation.topic  \\\n",
       "0  Collaboration of subject matter experts and AI...   \n",
       "1  Start LLM apps development from test cases gen...   \n",
       "2        evidently is agreat for LLM testing, use it   \n",
       "3                          CI/CD is applicable in AI   \n",
       "4  testing in AI engineering is as important as i...   \n",
       "\n",
       "  basic_tweet_generation.model basic_tweet_generation.instructions  \\\n",
       "0                gpt-3.5-turbo                                       \n",
       "1                gpt-3.5-turbo                                       \n",
       "2                gpt-3.5-turbo                                       \n",
       "3                gpt-3.5-turbo                                       \n",
       "4                gpt-3.5-turbo                                       \n",
       "\n",
       "                       basic_tweet_generation.result  Length  Sentiment  \\\n",
       "0  Collaboration between subject matter experts a...     769     0.9870   \n",
       "1  Start LLM Apps Development always begins with ...     793     0.9565   \n",
       "2  Evidently is a fantastic tool for conducting L...     817     0.9774   \n",
       "3  Continuous Integration/Continuous Deployment (...     747     0.8658   \n",
       "4  Testing in AI engineering is just as crucial a...     657     0.9371   \n",
       "\n",
       "  Tweet quality                            Tweet quality reasoning  \n",
       "0       NEUTRAL  The text primarily states facts about collabor...  \n",
       "1       NEUTRAL  The text merely states the facts about the imp...  \n",
       "2       NEUTRAL  The text primarily provides a factual descript...  \n",
       "3       NEUTRAL  The text primarily presents factual informatio...  \n",
       "4       NEUTRAL  The text primarily states facts and observatio...  "
      ]
     },
     "execution_count": 25,
     "metadata": {},
     "output_type": "execute_result"
    }
   ],
   "source": [
    "dataset.as_dataframe()"
   ]
  },
  {
   "cell_type": "code",
   "execution_count": 26,
   "id": "73e8884b-6458-4be7-ab34-dc9fd57d8289",
   "metadata": {},
   "outputs": [],
   "source": [
    "report = Report(\n",
    "    metrics=[TextEvals()]\n",
    ")"
   ]
  },
  {
   "cell_type": "code",
   "execution_count": 27,
   "id": "e8c6b742-8721-4934-b5fe-32d7ee5d39a0",
   "metadata": {},
   "outputs": [],
   "source": [
    "basic_tweets_eval =  report.run(dataset, tags=[\"gpt-3.5-turbo\", \"basic generation\"])"
   ]
  },
  {
   "cell_type": "code",
   "execution_count": 28,
   "id": "81ebc373-f858-41d8-ba4e-b02ceb84b183",
   "metadata": {},
   "outputs": [
    {
     "data": {
      "text/plain": [
       "UUID('0196e7ef-a820-7d83-9ae3-7d4d7b1e56c6')"
      ]
     },
     "execution_count": 28,
     "metadata": {},
     "output_type": "execute_result"
    }
   ],
   "source": [
    "client.add_run(project.id, basic_tweets_eval, include_data=True)"
   ]
  },
  {
   "cell_type": "markdown",
   "id": "f3866e38-786f-4193-8d70-91de4e3acb19",
   "metadata": {},
   "source": [
    "## Better content generation"
   ]
  },
  {
   "cell_type": "code",
   "execution_count": 29,
   "id": "f90b3976-553d-4f78-aa69-a28f5edfd1cf",
   "metadata": {},
   "outputs": [],
   "source": [
    "instruction=\"\"\"You are a chief editor with 10 years of experience in technical writing. \n",
    "        You specialize in creating concise, engaging, and to-the-point content for engineers. \n",
    "        Your style is clear, direct, and focused on delivering technical value without fluff.\"\"\""
   ]
  },
  {
   "cell_type": "code",
   "execution_count": 30,
   "id": "33d27cdd-413c-4781-b791-4c3ddbe3a438",
   "metadata": {},
   "outputs": [],
   "source": [
    "better_tweets = [basic_tweet_generation(topic, model=\"gpt-4o-mini\", instructions=instruction) for topic in my_topics]"
   ]
  },
  {
   "cell_type": "code",
   "execution_count": 31,
   "id": "be2005de-508a-424d-9790-25f16676a881",
   "metadata": {},
   "outputs": [],
   "source": [
    "updated_dataset = client.load_dataset(\"0196e7e5-948b-71d9-b21d-e9213560262f\")"
   ]
  },
  {
   "cell_type": "code",
   "execution_count": 32,
   "id": "acb8cca7-bc24-48ca-a638-64059caf3ad8",
   "metadata": {
    "scrolled": true
   },
   "outputs": [
    {
     "data": {
      "text/html": [
       "<div>\n",
       "<style scoped>\n",
       "    .dataframe tbody tr th:only-of-type {\n",
       "        vertical-align: middle;\n",
       "    }\n",
       "\n",
       "    .dataframe tbody tr th {\n",
       "        vertical-align: top;\n",
       "    }\n",
       "\n",
       "    .dataframe thead th {\n",
       "        text-align: right;\n",
       "    }\n",
       "</style>\n",
       "<table border=\"1\" class=\"dataframe\">\n",
       "  <thead>\n",
       "    <tr style=\"text-align: right;\">\n",
       "      <th></th>\n",
       "      <th>id</th>\n",
       "      <th>service_name</th>\n",
       "      <th>timestamp</th>\n",
       "      <th>_evidently_trace_link</th>\n",
       "      <th>basic_tweet_generation.topic</th>\n",
       "      <th>basic_tweet_generation.model</th>\n",
       "      <th>basic_tweet_generation.instructions</th>\n",
       "      <th>basic_tweet_generation.result</th>\n",
       "    </tr>\n",
       "  </thead>\n",
       "  <tbody>\n",
       "    <tr>\n",
       "      <th>0</th>\n",
       "      <td>3245b5a5-b901-6c54-ad25-7de79cb3e6bc</td>\n",
       "      <td>unknown_service</td>\n",
       "      <td>2025-05-19 09:38:43.723715</td>\n",
       "      <td>0196e7e5-948b-71d9-b21d-e9213560262f/3245b5a5-...</td>\n",
       "      <td>Collaboration of subject matter experts and AI...</td>\n",
       "      <td>gpt-3.5-turbo</td>\n",
       "      <td></td>\n",
       "      <td>Collaboration between subject matter experts a...</td>\n",
       "    </tr>\n",
       "    <tr>\n",
       "      <th>1</th>\n",
       "      <td>3b91742b-b1d3-7294-fe49-d94f2f54afb7</td>\n",
       "      <td>None</td>\n",
       "      <td>2025-05-19 09:47:00.646931</td>\n",
       "      <td>0196e7e5-948b-71d9-b21d-e9213560262f/3b91742b-...</td>\n",
       "      <td>Start LLM apps development from test cases gen...</td>\n",
       "      <td>gpt-4o-mini</td>\n",
       "      <td>You are a chief editor with 10 years of experi...</td>\n",
       "      <td>Starting LLM (Large Language Model) applicatio...</td>\n",
       "    </tr>\n",
       "    <tr>\n",
       "      <th>2</th>\n",
       "      <td>6bce4626-b31e-2dc6-fd9d-4500e0406b64</td>\n",
       "      <td>None</td>\n",
       "      <td>2025-05-19 09:38:45.886141</td>\n",
       "      <td>0196e7e5-948b-71d9-b21d-e9213560262f/6bce4626-...</td>\n",
       "      <td>Start LLM apps development from test cases gen...</td>\n",
       "      <td>gpt-3.5-turbo</td>\n",
       "      <td></td>\n",
       "      <td>Start LLM Apps Development always begins with ...</td>\n",
       "    </tr>\n",
       "    <tr>\n",
       "      <th>3</th>\n",
       "      <td>6d143f05-c27a-833e-949c-ab1cdde781f1</td>\n",
       "      <td>None</td>\n",
       "      <td>2025-05-19 09:46:56.858116</td>\n",
       "      <td>0196e7e5-948b-71d9-b21d-e9213560262f/6d143f05-...</td>\n",
       "      <td>Collaboration of subject matter experts and AI...</td>\n",
       "      <td>gpt-4o-mini</td>\n",
       "      <td>You are a chief editor with 10 years of experi...</td>\n",
       "      <td>The collaboration between subject matter exper...</td>\n",
       "    </tr>\n",
       "    <tr>\n",
       "      <th>4</th>\n",
       "      <td>772a561a-afb0-1dd8-9e3d-18967520d04b</td>\n",
       "      <td>None</td>\n",
       "      <td>2025-05-19 09:38:47.938784</td>\n",
       "      <td>0196e7e5-948b-71d9-b21d-e9213560262f/772a561a-...</td>\n",
       "      <td>evidently is agreat for LLM testing, use it</td>\n",
       "      <td>gpt-3.5-turbo</td>\n",
       "      <td></td>\n",
       "      <td>Evidently is a fantastic tool for conducting L...</td>\n",
       "    </tr>\n",
       "    <tr>\n",
       "      <th>5</th>\n",
       "      <td>a95e9e1d-c1ef-a1c2-236c-cae8818d0c6e</td>\n",
       "      <td>None</td>\n",
       "      <td>2025-05-19 09:38:40.504285</td>\n",
       "      <td>0196e7e5-948b-71d9-b21d-e9213560262f/a95e9e1d-...</td>\n",
       "      <td>CI/CD is applicable in AI</td>\n",
       "      <td>gpt-3.5-turbo</td>\n",
       "      <td></td>\n",
       "      <td>Continuous Integration/Continuous Deployment (...</td>\n",
       "    </tr>\n",
       "    <tr>\n",
       "      <th>6</th>\n",
       "      <td>cc1fb1c7-d989-3aa8-42d1-bc5f4c13a7cc</td>\n",
       "      <td>None</td>\n",
       "      <td>2025-05-19 09:38:38.687509</td>\n",
       "      <td>0196e7e5-948b-71d9-b21d-e9213560262f/cc1fb1c7-...</td>\n",
       "      <td>testing in AI engineering is as important as i...</td>\n",
       "      <td>gpt-3.5-turbo</td>\n",
       "      <td></td>\n",
       "      <td>Testing in AI engineering is just as crucial a...</td>\n",
       "    </tr>\n",
       "    <tr>\n",
       "      <th>7</th>\n",
       "      <td>e3e2a58b-7ce6-00a7-95db-98529ca03b9b</td>\n",
       "      <td>None</td>\n",
       "      <td>2025-05-19 09:46:53.222711</td>\n",
       "      <td>0196e7e5-948b-71d9-b21d-e9213560262f/e3e2a58b-...</td>\n",
       "      <td>CI/CD is applicable in AI</td>\n",
       "      <td>gpt-4o-mini</td>\n",
       "      <td>You are a chief editor with 10 years of experi...</td>\n",
       "      <td>Continuous Integration and Continuous Delivery...</td>\n",
       "    </tr>\n",
       "    <tr>\n",
       "      <th>8</th>\n",
       "      <td>fbb4def5-15a6-f93c-1979-a883f2579adf</td>\n",
       "      <td>None</td>\n",
       "      <td>2025-05-19 09:47:05.751717</td>\n",
       "      <td>0196e7e5-948b-71d9-b21d-e9213560262f/fbb4def5-...</td>\n",
       "      <td>evidently is agreat for LLM testing, use it</td>\n",
       "      <td>gpt-4o-mini</td>\n",
       "      <td>You are a chief editor with 10 years of experi...</td>\n",
       "      <td>Evidently is an excellent tool for testing lar...</td>\n",
       "    </tr>\n",
       "    <tr>\n",
       "      <th>9</th>\n",
       "      <td>fd889ff1-ab08-b867-babb-bae1e1f36040</td>\n",
       "      <td>None</td>\n",
       "      <td>2025-05-19 09:46:49.489396</td>\n",
       "      <td>0196e7e5-948b-71d9-b21d-e9213560262f/fd889ff1-...</td>\n",
       "      <td>testing in AI engineering is as important as i...</td>\n",
       "      <td>gpt-4o-mini</td>\n",
       "      <td>You are a chief editor with 10 years of experi...</td>\n",
       "      <td>Testing in AI engineering is as crucial as in ...</td>\n",
       "    </tr>\n",
       "  </tbody>\n",
       "</table>\n",
       "</div>"
      ],
      "text/plain": [
       "                                     id     service_name  \\\n",
       "0  3245b5a5-b901-6c54-ad25-7de79cb3e6bc  unknown_service   \n",
       "1  3b91742b-b1d3-7294-fe49-d94f2f54afb7             None   \n",
       "2  6bce4626-b31e-2dc6-fd9d-4500e0406b64             None   \n",
       "3  6d143f05-c27a-833e-949c-ab1cdde781f1             None   \n",
       "4  772a561a-afb0-1dd8-9e3d-18967520d04b             None   \n",
       "5  a95e9e1d-c1ef-a1c2-236c-cae8818d0c6e             None   \n",
       "6  cc1fb1c7-d989-3aa8-42d1-bc5f4c13a7cc             None   \n",
       "7  e3e2a58b-7ce6-00a7-95db-98529ca03b9b             None   \n",
       "8  fbb4def5-15a6-f93c-1979-a883f2579adf             None   \n",
       "9  fd889ff1-ab08-b867-babb-bae1e1f36040             None   \n",
       "\n",
       "                   timestamp  \\\n",
       "0 2025-05-19 09:38:43.723715   \n",
       "1 2025-05-19 09:47:00.646931   \n",
       "2 2025-05-19 09:38:45.886141   \n",
       "3 2025-05-19 09:46:56.858116   \n",
       "4 2025-05-19 09:38:47.938784   \n",
       "5 2025-05-19 09:38:40.504285   \n",
       "6 2025-05-19 09:38:38.687509   \n",
       "7 2025-05-19 09:46:53.222711   \n",
       "8 2025-05-19 09:47:05.751717   \n",
       "9 2025-05-19 09:46:49.489396   \n",
       "\n",
       "                               _evidently_trace_link  \\\n",
       "0  0196e7e5-948b-71d9-b21d-e9213560262f/3245b5a5-...   \n",
       "1  0196e7e5-948b-71d9-b21d-e9213560262f/3b91742b-...   \n",
       "2  0196e7e5-948b-71d9-b21d-e9213560262f/6bce4626-...   \n",
       "3  0196e7e5-948b-71d9-b21d-e9213560262f/6d143f05-...   \n",
       "4  0196e7e5-948b-71d9-b21d-e9213560262f/772a561a-...   \n",
       "5  0196e7e5-948b-71d9-b21d-e9213560262f/a95e9e1d-...   \n",
       "6  0196e7e5-948b-71d9-b21d-e9213560262f/cc1fb1c7-...   \n",
       "7  0196e7e5-948b-71d9-b21d-e9213560262f/e3e2a58b-...   \n",
       "8  0196e7e5-948b-71d9-b21d-e9213560262f/fbb4def5-...   \n",
       "9  0196e7e5-948b-71d9-b21d-e9213560262f/fd889ff1-...   \n",
       "\n",
       "                        basic_tweet_generation.topic  \\\n",
       "0  Collaboration of subject matter experts and AI...   \n",
       "1  Start LLM apps development from test cases gen...   \n",
       "2  Start LLM apps development from test cases gen...   \n",
       "3  Collaboration of subject matter experts and AI...   \n",
       "4        evidently is agreat for LLM testing, use it   \n",
       "5                          CI/CD is applicable in AI   \n",
       "6  testing in AI engineering is as important as i...   \n",
       "7                          CI/CD is applicable in AI   \n",
       "8        evidently is agreat for LLM testing, use it   \n",
       "9  testing in AI engineering is as important as i...   \n",
       "\n",
       "  basic_tweet_generation.model  \\\n",
       "0                gpt-3.5-turbo   \n",
       "1                  gpt-4o-mini   \n",
       "2                gpt-3.5-turbo   \n",
       "3                  gpt-4o-mini   \n",
       "4                gpt-3.5-turbo   \n",
       "5                gpt-3.5-turbo   \n",
       "6                gpt-3.5-turbo   \n",
       "7                  gpt-4o-mini   \n",
       "8                  gpt-4o-mini   \n",
       "9                  gpt-4o-mini   \n",
       "\n",
       "                 basic_tweet_generation.instructions  \\\n",
       "0                                                      \n",
       "1  You are a chief editor with 10 years of experi...   \n",
       "2                                                      \n",
       "3  You are a chief editor with 10 years of experi...   \n",
       "4                                                      \n",
       "5                                                      \n",
       "6                                                      \n",
       "7  You are a chief editor with 10 years of experi...   \n",
       "8  You are a chief editor with 10 years of experi...   \n",
       "9  You are a chief editor with 10 years of experi...   \n",
       "\n",
       "                       basic_tweet_generation.result  \n",
       "0  Collaboration between subject matter experts a...  \n",
       "1  Starting LLM (Large Language Model) applicatio...  \n",
       "2  Start LLM Apps Development always begins with ...  \n",
       "3  The collaboration between subject matter exper...  \n",
       "4  Evidently is a fantastic tool for conducting L...  \n",
       "5  Continuous Integration/Continuous Deployment (...  \n",
       "6  Testing in AI engineering is just as crucial a...  \n",
       "7  Continuous Integration and Continuous Delivery...  \n",
       "8  Evidently is an excellent tool for testing lar...  \n",
       "9  Testing in AI engineering is as crucial as in ...  "
      ]
     },
     "execution_count": 32,
     "metadata": {},
     "output_type": "execute_result"
    }
   ],
   "source": [
    "updated_dataset.as_dataframe()"
   ]
  },
  {
   "cell_type": "code",
   "execution_count": 33,
   "id": "6d10dc80-7e91-4560-a19b-8d03d5fd6439",
   "metadata": {},
   "outputs": [],
   "source": [
    "tmp_frame = updated_dataset.as_dataframe()\n",
    "better_tweets = tmp_frame[tmp_frame[\"basic_tweet_generation.model\"] == \"gpt-4o-mini\"]"
   ]
  },
  {
   "cell_type": "code",
   "execution_count": 34,
   "id": "55ef5d35-7f41-46a5-9831-e4a73d0ec491",
   "metadata": {},
   "outputs": [
    {
     "data": {
      "text/html": [
       "<div>\n",
       "<style scoped>\n",
       "    .dataframe tbody tr th:only-of-type {\n",
       "        vertical-align: middle;\n",
       "    }\n",
       "\n",
       "    .dataframe tbody tr th {\n",
       "        vertical-align: top;\n",
       "    }\n",
       "\n",
       "    .dataframe thead th {\n",
       "        text-align: right;\n",
       "    }\n",
       "</style>\n",
       "<table border=\"1\" class=\"dataframe\">\n",
       "  <thead>\n",
       "    <tr style=\"text-align: right;\">\n",
       "      <th></th>\n",
       "      <th>id</th>\n",
       "      <th>service_name</th>\n",
       "      <th>timestamp</th>\n",
       "      <th>_evidently_trace_link</th>\n",
       "      <th>basic_tweet_generation.topic</th>\n",
       "      <th>basic_tweet_generation.model</th>\n",
       "      <th>basic_tweet_generation.instructions</th>\n",
       "      <th>basic_tweet_generation.result</th>\n",
       "    </tr>\n",
       "  </thead>\n",
       "  <tbody>\n",
       "    <tr>\n",
       "      <th>1</th>\n",
       "      <td>3b91742b-b1d3-7294-fe49-d94f2f54afb7</td>\n",
       "      <td>None</td>\n",
       "      <td>2025-05-19 09:47:00.646931</td>\n",
       "      <td>0196e7e5-948b-71d9-b21d-e9213560262f/3b91742b-...</td>\n",
       "      <td>Start LLM apps development from test cases gen...</td>\n",
       "      <td>gpt-4o-mini</td>\n",
       "      <td>You are a chief editor with 10 years of experi...</td>\n",
       "      <td>Starting LLM (Large Language Model) applicatio...</td>\n",
       "    </tr>\n",
       "    <tr>\n",
       "      <th>3</th>\n",
       "      <td>6d143f05-c27a-833e-949c-ab1cdde781f1</td>\n",
       "      <td>None</td>\n",
       "      <td>2025-05-19 09:46:56.858116</td>\n",
       "      <td>0196e7e5-948b-71d9-b21d-e9213560262f/6d143f05-...</td>\n",
       "      <td>Collaboration of subject matter experts and AI...</td>\n",
       "      <td>gpt-4o-mini</td>\n",
       "      <td>You are a chief editor with 10 years of experi...</td>\n",
       "      <td>The collaboration between subject matter exper...</td>\n",
       "    </tr>\n",
       "    <tr>\n",
       "      <th>7</th>\n",
       "      <td>e3e2a58b-7ce6-00a7-95db-98529ca03b9b</td>\n",
       "      <td>None</td>\n",
       "      <td>2025-05-19 09:46:53.222711</td>\n",
       "      <td>0196e7e5-948b-71d9-b21d-e9213560262f/e3e2a58b-...</td>\n",
       "      <td>CI/CD is applicable in AI</td>\n",
       "      <td>gpt-4o-mini</td>\n",
       "      <td>You are a chief editor with 10 years of experi...</td>\n",
       "      <td>Continuous Integration and Continuous Delivery...</td>\n",
       "    </tr>\n",
       "    <tr>\n",
       "      <th>8</th>\n",
       "      <td>fbb4def5-15a6-f93c-1979-a883f2579adf</td>\n",
       "      <td>None</td>\n",
       "      <td>2025-05-19 09:47:05.751717</td>\n",
       "      <td>0196e7e5-948b-71d9-b21d-e9213560262f/fbb4def5-...</td>\n",
       "      <td>evidently is agreat for LLM testing, use it</td>\n",
       "      <td>gpt-4o-mini</td>\n",
       "      <td>You are a chief editor with 10 years of experi...</td>\n",
       "      <td>Evidently is an excellent tool for testing lar...</td>\n",
       "    </tr>\n",
       "    <tr>\n",
       "      <th>9</th>\n",
       "      <td>fd889ff1-ab08-b867-babb-bae1e1f36040</td>\n",
       "      <td>None</td>\n",
       "      <td>2025-05-19 09:46:49.489396</td>\n",
       "      <td>0196e7e5-948b-71d9-b21d-e9213560262f/fd889ff1-...</td>\n",
       "      <td>testing in AI engineering is as important as i...</td>\n",
       "      <td>gpt-4o-mini</td>\n",
       "      <td>You are a chief editor with 10 years of experi...</td>\n",
       "      <td>Testing in AI engineering is as crucial as in ...</td>\n",
       "    </tr>\n",
       "  </tbody>\n",
       "</table>\n",
       "</div>"
      ],
      "text/plain": [
       "                                     id service_name  \\\n",
       "1  3b91742b-b1d3-7294-fe49-d94f2f54afb7         None   \n",
       "3  6d143f05-c27a-833e-949c-ab1cdde781f1         None   \n",
       "7  e3e2a58b-7ce6-00a7-95db-98529ca03b9b         None   \n",
       "8  fbb4def5-15a6-f93c-1979-a883f2579adf         None   \n",
       "9  fd889ff1-ab08-b867-babb-bae1e1f36040         None   \n",
       "\n",
       "                   timestamp  \\\n",
       "1 2025-05-19 09:47:00.646931   \n",
       "3 2025-05-19 09:46:56.858116   \n",
       "7 2025-05-19 09:46:53.222711   \n",
       "8 2025-05-19 09:47:05.751717   \n",
       "9 2025-05-19 09:46:49.489396   \n",
       "\n",
       "                               _evidently_trace_link  \\\n",
       "1  0196e7e5-948b-71d9-b21d-e9213560262f/3b91742b-...   \n",
       "3  0196e7e5-948b-71d9-b21d-e9213560262f/6d143f05-...   \n",
       "7  0196e7e5-948b-71d9-b21d-e9213560262f/e3e2a58b-...   \n",
       "8  0196e7e5-948b-71d9-b21d-e9213560262f/fbb4def5-...   \n",
       "9  0196e7e5-948b-71d9-b21d-e9213560262f/fd889ff1-...   \n",
       "\n",
       "                        basic_tweet_generation.topic  \\\n",
       "1  Start LLM apps development from test cases gen...   \n",
       "3  Collaboration of subject matter experts and AI...   \n",
       "7                          CI/CD is applicable in AI   \n",
       "8        evidently is agreat for LLM testing, use it   \n",
       "9  testing in AI engineering is as important as i...   \n",
       "\n",
       "  basic_tweet_generation.model  \\\n",
       "1                  gpt-4o-mini   \n",
       "3                  gpt-4o-mini   \n",
       "7                  gpt-4o-mini   \n",
       "8                  gpt-4o-mini   \n",
       "9                  gpt-4o-mini   \n",
       "\n",
       "                 basic_tweet_generation.instructions  \\\n",
       "1  You are a chief editor with 10 years of experi...   \n",
       "3  You are a chief editor with 10 years of experi...   \n",
       "7  You are a chief editor with 10 years of experi...   \n",
       "8  You are a chief editor with 10 years of experi...   \n",
       "9  You are a chief editor with 10 years of experi...   \n",
       "\n",
       "                       basic_tweet_generation.result  \n",
       "1  Starting LLM (Large Language Model) applicatio...  \n",
       "3  The collaboration between subject matter exper...  \n",
       "7  Continuous Integration and Continuous Delivery...  \n",
       "8  Evidently is an excellent tool for testing lar...  \n",
       "9  Testing in AI engineering is as crucial as in ...  "
      ]
     },
     "execution_count": 34,
     "metadata": {},
     "output_type": "execute_result"
    }
   ],
   "source": [
    "better_tweets"
   ]
  },
  {
   "cell_type": "code",
   "execution_count": 35,
   "id": "eb1a7a33-f1e3-4853-8b4c-92cf3535165c",
   "metadata": {},
   "outputs": [],
   "source": [
    "better_dataset = Dataset.from_pandas(\n",
    "    better_tweets,\n",
    "    data_definition = dataset.data_definition,\n",
    "    descriptors = descriptors\n",
    ")"
   ]
  },
  {
   "cell_type": "code",
   "execution_count": 36,
   "id": "62cd1dea-8300-4bd0-9f3c-47224863c5ff",
   "metadata": {},
   "outputs": [
    {
     "data": {
      "text/html": [
       "<div>\n",
       "<style scoped>\n",
       "    .dataframe tbody tr th:only-of-type {\n",
       "        vertical-align: middle;\n",
       "    }\n",
       "\n",
       "    .dataframe tbody tr th {\n",
       "        vertical-align: top;\n",
       "    }\n",
       "\n",
       "    .dataframe thead th {\n",
       "        text-align: right;\n",
       "    }\n",
       "</style>\n",
       "<table border=\"1\" class=\"dataframe\">\n",
       "  <thead>\n",
       "    <tr style=\"text-align: right;\">\n",
       "      <th></th>\n",
       "      <th>id</th>\n",
       "      <th>service_name</th>\n",
       "      <th>timestamp</th>\n",
       "      <th>_evidently_trace_link</th>\n",
       "      <th>basic_tweet_generation.topic</th>\n",
       "      <th>basic_tweet_generation.model</th>\n",
       "      <th>basic_tweet_generation.instructions</th>\n",
       "      <th>basic_tweet_generation.result</th>\n",
       "      <th>Length</th>\n",
       "      <th>Sentiment</th>\n",
       "      <th>Tweet quality</th>\n",
       "      <th>Tweet quality reasoning</th>\n",
       "    </tr>\n",
       "  </thead>\n",
       "  <tbody>\n",
       "    <tr>\n",
       "      <th>1</th>\n",
       "      <td>3b91742b-b1d3-7294-fe49-d94f2f54afb7</td>\n",
       "      <td>None</td>\n",
       "      <td>2025-05-19 09:47:00.646931</td>\n",
       "      <td>0196e7e5-948b-71d9-b21d-e9213560262f/3b91742b-...</td>\n",
       "      <td>Start LLM apps development from test cases gen...</td>\n",
       "      <td>gpt-4o-mini</td>\n",
       "      <td>You are a chief editor with 10 years of experi...</td>\n",
       "      <td>Starting LLM (Large Language Model) applicatio...</td>\n",
       "      <td>796</td>\n",
       "      <td>0.9500</td>\n",
       "      <td>NEUTRAL</td>\n",
       "      <td>The text primarily consists of factual stateme...</td>\n",
       "    </tr>\n",
       "    <tr>\n",
       "      <th>3</th>\n",
       "      <td>6d143f05-c27a-833e-949c-ab1cdde781f1</td>\n",
       "      <td>None</td>\n",
       "      <td>2025-05-19 09:46:56.858116</td>\n",
       "      <td>0196e7e5-948b-71d9-b21d-e9213560262f/6d143f05-...</td>\n",
       "      <td>Collaboration of subject matter experts and AI...</td>\n",
       "      <td>gpt-4o-mini</td>\n",
       "      <td>You are a chief editor with 10 years of experi...</td>\n",
       "      <td>The collaboration between subject matter exper...</td>\n",
       "      <td>718</td>\n",
       "      <td>0.9422</td>\n",
       "      <td>NEUTRAL</td>\n",
       "      <td>The text primarily states facts and observatio...</td>\n",
       "    </tr>\n",
       "    <tr>\n",
       "      <th>7</th>\n",
       "      <td>e3e2a58b-7ce6-00a7-95db-98529ca03b9b</td>\n",
       "      <td>None</td>\n",
       "      <td>2025-05-19 09:46:53.222711</td>\n",
       "      <td>0196e7e5-948b-71d9-b21d-e9213560262f/e3e2a58b-...</td>\n",
       "      <td>CI/CD is applicable in AI</td>\n",
       "      <td>gpt-4o-mini</td>\n",
       "      <td>You are a chief editor with 10 years of experi...</td>\n",
       "      <td>Continuous Integration and Continuous Delivery...</td>\n",
       "      <td>709</td>\n",
       "      <td>0.8481</td>\n",
       "      <td>NEUTRAL</td>\n",
       "      <td>The text presents factual information about CI...</td>\n",
       "    </tr>\n",
       "    <tr>\n",
       "      <th>8</th>\n",
       "      <td>fbb4def5-15a6-f93c-1979-a883f2579adf</td>\n",
       "      <td>None</td>\n",
       "      <td>2025-05-19 09:47:05.751717</td>\n",
       "      <td>0196e7e5-948b-71d9-b21d-e9213560262f/fbb4def5-...</td>\n",
       "      <td>evidently is agreat for LLM testing, use it</td>\n",
       "      <td>gpt-4o-mini</td>\n",
       "      <td>You are a chief editor with 10 years of experi...</td>\n",
       "      <td>Evidently is an excellent tool for testing lar...</td>\n",
       "      <td>613</td>\n",
       "      <td>0.8658</td>\n",
       "      <td>NEUTRAL</td>\n",
       "      <td>The text merely states facts about the tool Ev...</td>\n",
       "    </tr>\n",
       "    <tr>\n",
       "      <th>9</th>\n",
       "      <td>fd889ff1-ab08-b867-babb-bae1e1f36040</td>\n",
       "      <td>None</td>\n",
       "      <td>2025-05-19 09:46:49.489396</td>\n",
       "      <td>0196e7e5-948b-71d9-b21d-e9213560262f/fd889ff1-...</td>\n",
       "      <td>testing in AI engineering is as important as i...</td>\n",
       "      <td>gpt-4o-mini</td>\n",
       "      <td>You are a chief editor with 10 years of experi...</td>\n",
       "      <td>Testing in AI engineering is as crucial as in ...</td>\n",
       "      <td>728</td>\n",
       "      <td>0.9169</td>\n",
       "      <td>NEUTRAL</td>\n",
       "      <td>The text presents factual information regardin...</td>\n",
       "    </tr>\n",
       "  </tbody>\n",
       "</table>\n",
       "</div>"
      ],
      "text/plain": [
       "                                     id service_name  \\\n",
       "1  3b91742b-b1d3-7294-fe49-d94f2f54afb7         None   \n",
       "3  6d143f05-c27a-833e-949c-ab1cdde781f1         None   \n",
       "7  e3e2a58b-7ce6-00a7-95db-98529ca03b9b         None   \n",
       "8  fbb4def5-15a6-f93c-1979-a883f2579adf         None   \n",
       "9  fd889ff1-ab08-b867-babb-bae1e1f36040         None   \n",
       "\n",
       "                   timestamp  \\\n",
       "1 2025-05-19 09:47:00.646931   \n",
       "3 2025-05-19 09:46:56.858116   \n",
       "7 2025-05-19 09:46:53.222711   \n",
       "8 2025-05-19 09:47:05.751717   \n",
       "9 2025-05-19 09:46:49.489396   \n",
       "\n",
       "                               _evidently_trace_link  \\\n",
       "1  0196e7e5-948b-71d9-b21d-e9213560262f/3b91742b-...   \n",
       "3  0196e7e5-948b-71d9-b21d-e9213560262f/6d143f05-...   \n",
       "7  0196e7e5-948b-71d9-b21d-e9213560262f/e3e2a58b-...   \n",
       "8  0196e7e5-948b-71d9-b21d-e9213560262f/fbb4def5-...   \n",
       "9  0196e7e5-948b-71d9-b21d-e9213560262f/fd889ff1-...   \n",
       "\n",
       "                        basic_tweet_generation.topic  \\\n",
       "1  Start LLM apps development from test cases gen...   \n",
       "3  Collaboration of subject matter experts and AI...   \n",
       "7                          CI/CD is applicable in AI   \n",
       "8        evidently is agreat for LLM testing, use it   \n",
       "9  testing in AI engineering is as important as i...   \n",
       "\n",
       "  basic_tweet_generation.model  \\\n",
       "1                  gpt-4o-mini   \n",
       "3                  gpt-4o-mini   \n",
       "7                  gpt-4o-mini   \n",
       "8                  gpt-4o-mini   \n",
       "9                  gpt-4o-mini   \n",
       "\n",
       "                 basic_tweet_generation.instructions  \\\n",
       "1  You are a chief editor with 10 years of experi...   \n",
       "3  You are a chief editor with 10 years of experi...   \n",
       "7  You are a chief editor with 10 years of experi...   \n",
       "8  You are a chief editor with 10 years of experi...   \n",
       "9  You are a chief editor with 10 years of experi...   \n",
       "\n",
       "                       basic_tweet_generation.result  Length  Sentiment  \\\n",
       "1  Starting LLM (Large Language Model) applicatio...     796     0.9500   \n",
       "3  The collaboration between subject matter exper...     718     0.9422   \n",
       "7  Continuous Integration and Continuous Delivery...     709     0.8481   \n",
       "8  Evidently is an excellent tool for testing lar...     613     0.8658   \n",
       "9  Testing in AI engineering is as crucial as in ...     728     0.9169   \n",
       "\n",
       "  Tweet quality                            Tweet quality reasoning  \n",
       "1       NEUTRAL  The text primarily consists of factual stateme...  \n",
       "3       NEUTRAL  The text primarily states facts and observatio...  \n",
       "7       NEUTRAL  The text presents factual information about CI...  \n",
       "8       NEUTRAL  The text merely states facts about the tool Ev...  \n",
       "9       NEUTRAL  The text presents factual information regardin...  "
      ]
     },
     "execution_count": 36,
     "metadata": {},
     "output_type": "execute_result"
    }
   ],
   "source": [
    "better_dataset.as_dataframe()"
   ]
  },
  {
   "cell_type": "code",
   "execution_count": 37,
   "id": "fb7f485a-05e8-48dd-a389-2526df2ce05e",
   "metadata": {},
   "outputs": [],
   "source": [
    "better_tweets_eval = report.run(better_dataset, tags=[\"gpt-4o-mini\", \"basic generation\"])"
   ]
  },
  {
   "cell_type": "code",
   "execution_count": 38,
   "id": "1bf66e9d-562a-4eac-80be-5cbb1fc62b81",
   "metadata": {},
   "outputs": [
    {
     "data": {
      "text/plain": [
       "UUID('0196e7f3-edad-7477-8195-aebefddae614')"
      ]
     },
     "execution_count": 38,
     "metadata": {},
     "output_type": "execute_result"
    }
   ],
   "source": [
    "client.add_run(project.id, better_tweets_eval, include_data=True)"
   ]
  },
  {
   "cell_type": "markdown",
   "id": "0d408698-19e4-4cd0-95fc-5c28994542e4",
   "metadata": {},
   "source": [
    "## Chained generation"
   ]
  },
  {
   "cell_type": "code",
   "execution_count": 39,
   "id": "96c47b52-b923-4712-9825-d16b6c919fa8",
   "metadata": {},
   "outputs": [
    {
     "data": {
      "text/plain": [
       "<opentelemetry.sdk.trace.TracerProvider at 0x30d741610>"
      ]
     },
     "execution_count": 39,
     "metadata": {},
     "output_type": "execute_result"
    }
   ],
   "source": [
    "init_tracing(\n",
    "    project_id=str(project.id), # Project ID from Evidently Cloud\n",
    "    export_name=\"content generation: chained\",\n",
    "    as_global=False\n",
    ")"
   ]
  },
  {
   "cell_type": "code",
   "execution_count": 40,
   "id": "02ab7b9a-83ee-47c9-8c7a-046e2216085e",
   "metadata": {},
   "outputs": [],
   "source": [
    "instruction = \"\"\"You are an engineer at Evidently AI. \n",
    "        You also have 10 years of experience in technical writing.\n",
    "        You specialize in creating fun, consise, engaging, and to-the-point blogs for engineers.\n",
    "        Your style is motivational, clear, direct, and focuses on delivering technical value without fluff.\n",
    "        \"\"\""
   ]
  },
  {
   "cell_type": "code",
   "execution_count": 41,
   "id": "a4fbe90a-b761-47a2-953a-4338398a410e",
   "metadata": {},
   "outputs": [],
   "source": [
    "@trace_event()\n",
    "def chained_tweet_generation(tweet, model=\"gpt-3.5-turbo\", instructions=\"\"):\n",
    "    response = OA_client.responses.create(\n",
    "        instructions=instructions,\n",
    "        model=model,\n",
    "        input=f\"Make this tweet more engaging, fun. Make it more personal. \\\n",
    "        Make this tweet fit under 280 characters. Use a persuasive tone. Do not use any emotions or hashtags.\\n Tweet: {tweet}\"\n",
    "    )\n",
    "\n",
    "    refined_tweet = response.output_text\n",
    "    return refined_tweet"
   ]
  },
  {
   "cell_type": "code",
   "execution_count": 42,
   "id": "f3d022ff-8f9d-4853-97da-c86abe5833fb",
   "metadata": {},
   "outputs": [],
   "source": [
    "refined_tweets = [chained_tweet_generation(tweet, \"gpt-4.1\", instruction) for tweet in better_tweets[\"basic_tweet_generation.result\"]]"
   ]
  },
  {
   "cell_type": "code",
   "execution_count": 43,
   "id": "ef937667-b139-4157-91e8-da91e84bf329",
   "metadata": {},
   "outputs": [],
   "source": [
    "chain_dataset = client.load_dataset(\"0196e7f4-d756-7703-826a-fc43b1b275e2\")"
   ]
  },
  {
   "cell_type": "code",
   "execution_count": 44,
   "id": "ae76f513-507b-4ea6-8de8-8a5a25519cae",
   "metadata": {},
   "outputs": [
    {
     "data": {
      "text/plain": [
       "DataDefinition(id_column=None, timestamp='timestamp', service_columns=ServiceColumns(trace_link='_evidently_trace_link'), numerical_columns=[], categorical_columns=['chained_tweet_generation.model', 'chained_tweet_generation.instructions'], text_columns=['id', 'service_name', 'chained_tweet_generation.tweet', 'chained_tweet_generation.result'], datetime_columns=[], classification=None, regression=None, llm=None, numerical_descriptors=[], categorical_descriptors=[], test_descriptors=None, ranking=None)"
      ]
     },
     "execution_count": 44,
     "metadata": {},
     "output_type": "execute_result"
    }
   ],
   "source": [
    "chain_dataset.data_definition"
   ]
  },
  {
   "cell_type": "code",
   "execution_count": 45,
   "id": "65942720-40fe-4d15-b40b-ddbe6af48969",
   "metadata": {},
   "outputs": [],
   "source": [
    "chain_descriptors = [\n",
    "    TextLength(\"chained_tweet_generation.result\", alias=\"Length\"),\n",
    "    Sentiment(\"chained_tweet_generation.result\", alias=\"Sentiment\"),\n",
    "    LLMEval(\"chained_tweet_generation.result\", template=tweet_quality,\n",
    "           provider=\"openai\", model=\"gpt-4o-mini\",\n",
    "           alias=\"Tweet quality\")\n",
    "]"
   ]
  },
  {
   "cell_type": "code",
   "execution_count": 46,
   "id": "dd74bb73-bea2-471a-9032-e49460a4807a",
   "metadata": {},
   "outputs": [],
   "source": [
    "chain_dataset.add_descriptors(descriptors=chain_descriptors)"
   ]
  },
  {
   "cell_type": "code",
   "execution_count": 47,
   "id": "cc65a20e-22f2-44d6-b970-6f7fb1a81a4f",
   "metadata": {},
   "outputs": [],
   "source": [
    "chain_tweets_eval = report.run(chain_dataset, tags=[\"gpt-4.1\", \"chained generation\"])"
   ]
  },
  {
   "cell_type": "code",
   "execution_count": 48,
   "id": "919b01f5-d26d-4d32-bd20-889a04f84d91",
   "metadata": {},
   "outputs": [
    {
     "data": {
      "text/plain": [
       "UUID('0196e7f8-2a31-7993-93a1-930645018c89')"
      ]
     },
     "execution_count": 48,
     "metadata": {},
     "output_type": "execute_result"
    }
   ],
   "source": [
    "client.add_run(project.id, chain_tweets_eval, include_data=True)"
   ]
  }
 ],
 "metadata": {
  "kernelspec": {
   "display_name": "Python 3 (ipykernel)",
   "language": "python",
   "name": "python3"
  },
  "language_info": {
   "codemirror_mode": {
    "name": "ipython",
    "version": 3
   },
   "file_extension": ".py",
   "mimetype": "text/x-python",
   "name": "python",
   "nbconvert_exporter": "python",
   "pygments_lexer": "ipython3",
   "version": "3.11.4"
  }
 },
 "nbformat": 4,
 "nbformat_minor": 5
}
