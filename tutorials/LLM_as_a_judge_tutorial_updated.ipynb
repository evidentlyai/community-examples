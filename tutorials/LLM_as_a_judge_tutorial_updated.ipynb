{
  "cells": [
    {
      "cell_type": "markdown",
      "source": [
        "# Installation and imports"
      ],
      "metadata": {
        "id": "Tdvm881pyC8w"
      }
    },
    {
      "cell_type": "code",
      "execution_count": null,
      "metadata": {
        "id": "thDJOro8nijJ"
      },
      "outputs": [],
      "source": [
        "!pip install evidently"
      ]
    },
    {
      "cell_type": "code",
      "execution_count": null,
      "metadata": {
        "id": "dIVmb7pBxyHp"
      },
      "outputs": [],
      "source": [
        "import pandas as pd\n",
        "import numpy as np\n",
        "\n",
        "from evidently import Dataset\n",
        "from evidently import DataDefinition\n",
        "from evidently import Report\n",
        "from evidently.descriptors import *\n",
        "\n",
        "from evidently import BinaryClassification\n",
        "\n",
        "from evidently.presets import TextEvals, ValueStats, ClassificationPreset\n",
        "from evidently.metrics import *\n",
        "\n",
        "from evidently.llm.templates import BinaryClassificationPromptTemplate"
      ]
    },
    {
      "cell_type": "code",
      "source": [
        "# import os\n",
        "# os.environ[\"OPENAI_API_KEY\"] = \"YOUR_KEY\""
      ],
      "metadata": {
        "id": "B_GrXO0VF27e"
      },
      "execution_count": null,
      "outputs": []
    },
    {
      "cell_type": "markdown",
      "metadata": {
        "id": "iNFjnBiN382e"
      },
      "source": [
        "# Prepare the dataset"
      ]
    },
    {
      "cell_type": "markdown",
      "metadata": {
        "id": "noZ_CNMd4CCY"
      },
      "source": [
        "Labeled dataset to evaluate the LLM judge on:"
      ]
    },
    {
      "cell_type": "code",
      "execution_count": null,
      "metadata": {
        "id": "1tj6YjKJypVw"
      },
      "outputs": [],
      "source": [
        "data = [\n",
        "    [\"Hi there, how do I reset my password?\",\n",
        "     \"To reset your password, click on 'Forgot Password' on the login page and follow the instructions sent to your registered email.\",\n",
        "     \"To change your password, select 'Forgot Password' on the login screen and follow the steps sent to your registered email address. If you don't receive the email, check your spam folder or contact support for assistance.\",\n",
        "     \"incorrect\", \"adds new infromation (contact support)\"],\n",
        "\n",
        "    [\"Where can I find my transaction history?\",\n",
        "     \"You can view your transaction history by logging into your account and navigating to the 'Transaction History' section. Here, you can see all your past transactions. You can also filter the transactions by date or type for easier viewing.\",\n",
        "     \"Log into your account and go to 'Transaction History' to see all your past transactions. In this section, you can view and filter your transactions by date or type. This allows you to find specific transactions quickly and easily.\",\n",
        "     \"correct\", \"\"],\n",
        "\n",
        "    [\"How do I add another user to my account?\",\n",
        "     \"I am afraid it is not currently possible to add multiple users to the account. Our system supports only one user per account for security reasons. We recommend creating separate accounts for different users.\",\n",
        "     \"To add a secondary user, go to 'Account Settings', select 'Manage Users', and enter the details of the person you want to add. You can set permissions for their access, deciding what they can and cannot do within the account.\",\n",
        "     \"incorrect\", \"contradiction (incorrect answer)\"],\n",
        "\n",
        "    [\"Is it possible to link multiple bank accounts?\",\n",
        "     \"Yes, you can link multiple bank accounts by going to 'Account Settings' in the menu and selecting 'Add Bank Account'. Follow the prompts to add your bank account details. Make sure to verify each bank account by following the verification process.\",\n",
        "     \"You can add multiple bank accounts by visiting 'Accounts' in the menu and choosing 'Add Bank Account'. Enter your bank details as prompted and complete the verification process for each account to link them successfully.\",\n",
        "     \"incorrect\", \"contradiction (incorrect menu item)\"],\n",
        "\n",
        "    [\"Can I use your service for cryptocurrency transactions?\",\n",
        "     \"Currently, our service does not support cryptocurrency transactions. Please check our website for updates regarding this feature. We are continuously working to expand our services and may include this in the future.\",\n",
        "     \"Currently, our service does not support cryptocurrency transactions. Please check our website for updates regarding this feature. We are continuously working to expand our services and may include this in the future.\",\n",
        "     \"correct\", \"\"],\n",
        "\n",
        "    [\"Hi, can I get a detailed report of my monthly transactions?\",\n",
        "     \"Yes, you can generate a detailed monthly report of your transactions by logging into your account, going to 'Transaction History', and selecting 'Generate Report'. You can customize the report by selecting specific dates or transaction types.\",\n",
        "     \"You can get a detailed monthly report by logging into your account, navigating to 'Transaction History', and clicking on 'Generate Report'. Customize your report by choosing the date range and types of transactions you want to include.\",\n",
        "     \"correct\", \"\"],\n",
        "\n",
        "    [\"I am traveling to the US. Can I use the app there?\",\n",
        "     \"Yes, you can use the app in the US just like you do at home. Ensure you have an internet connection. You may also want to update your app to the latest version before traveling for optimal performance.\",\n",
        "     \"The app will work in the US without any issues. Just make sure you have access to the internet. For the best experience, update your app to the latest version before you travel.\",\n",
        "     \"correct\", \"\"],\n",
        "\n",
        "    [\"How do I link my payment account to a new mobile number?\",\n",
        "     \"To link a new mobile number, log in to your account, go to 'Account Settings', select 'Mobile Number', and follow the instructions to verify your new number. You will need to enter the new number and verify it via a code sent to your phone.\",\n",
        "     \"To add a new number, navigate to the 'Account Settings' section, select 'Mobile Number' and proceed with the steps to add and confirm the new number. Enter the new mobile number and verify it using the code sent to your phone.\",\n",
        "     \"correct\", \"\"],\n",
        "\n",
        "    [\"Can I receive notifications for transactions in real-time?\",\n",
        "     \"Yes, you can enable real-time notifications for transactions by going to 'Account Settings', then 'Notifications', and turning on 'Transaction Alerts'. You can choose to receive alerts via SMS, email, or push notifications on your mobile device.\",\n",
        "     \"To receive real-time notifications for transactions, log into your account, go to 'Account Settings', select 'Notifications', and enable 'Transaction Alerts'. Choose your preferred notification method between email or push notifications.\",\n",
        "     \"incorrect\", \"omits information (sms notification)\"],\n",
        "\n",
        "    [\"Hey, can I set up automatic transfers to my savings account?\",\n",
        "     \"Yes, you can set up automatic transfers by going to 'Account Settings', selecting 'Automatic Transfers', and specifying the amount and frequency. You can choose to transfer weekly, bi-weekly, or monthly. Make sure to save the settings to activate the transfers.\",\n",
        "     \"You can arrange automatic transfers by going to 'Account Settings', choosing 'Automatic Transfers', and setting the desired amount and frequency. Don't forget to save the changes to enable the automatic transfers.\",\n",
        "     \"incorrect\", \"omits information (limited frequency of transfers available)\"],\n",
        "\n",
        "    [\"Hi there, how do I reset my password?\",\n",
        "     \"To reset your password, click on 'Forgot Password' on the login page and follow the instructions sent to your registered email.\",\n",
        "     \"To change your password, select 'Forgot Password' on the login screen and follow the steps sent to your registered email address. If you don't receive the email, check your spam folder.\",\n",
        "     \"correct\", \"\"],\n",
        "\n",
        "    [\"How can I update my billing address?\",\n",
        "     \"To update your billing address, log into your account, go to 'Account Settings', select 'Billing Information', and enter your new address. Make sure to save the changes once you are done.\",\n",
        "     \"To update your billing address, log into your account, navigate to 'Account Settings', and select 'Billing Information'. Enter your new address and ensure all fields are filled out correctly. Save the changes, and you will receive a confirmation email with the updated address details.\",\n",
        "     \"incorrect\", \"adds new information (confirmation email)\"],\n",
        "\n",
        "    [\"How do I contact customer support?\",\n",
        "     \"You can contact customer support by logging into your account, going to the 'Help' section, and selecting 'Contact Us'. You can choose to reach us via email, phone, or live chat for immediate assistance.\",\n",
        "     \"To contact customer support, log into your account and go to the 'Help' section. Select 'Contact Us' and choose your preferred method: email, phone, or live chat. Our support team is available 24/7 to assist you with any issues. Additionally, you can find a FAQ section that may answer your questions without needing to contact support.\",\n",
        "     \"incorrect\", \"adds new information (24/7 availability, FAQ section)\"],\n",
        "\n",
        "    [\"What should I do if my card is lost or stolen?\",\n",
        "     \"If your card is lost or stolen, immediately log into your account, go to 'Card Management', and select 'Report Lost/Stolen'. Follow the instructions to block your card and request a replacement. You can also contact our support team for assistance.\",\n",
        "     \"If your card is lost or stolen, navigate to 'Card Management' in your account, and select 'Report Lost/Stolen'. Follow the prompts to block your card and request a replacement. Additionally, you can contact our support team for help.\",\n",
        "     \"correct\", \"\"],\n",
        "\n",
        "    [\"How do I enable two-factor authentication (2FA)?\",\n",
        "     \"To enable two-factor authentication, log into your account, go to 'Security Settings', and select 'Enable 2FA'. Follow the instructions to link your account with a 2FA app like Google Authenticator. Once set up, you will need to enter a code from the app each time you log in.\",\n",
        "     \"To enable two-factor authentication, log into your account, navigate to 'Security Settings', and choose 'Enable 2FA'. Follow the on-screen instructions to link your account with a 2FA app such as Google Authenticator. After setup, each login will require a code from the app. Additionally, you can set up backup codes in case you lose access to the 2FA app.\",\n",
        "     \"incorrect\", \"adds new information (backup codes)\"]\n",
        "]\n",
        "\n",
        "columns = [\"question\", \"target_response\", \"new_response\", \"label\", \"comment\"]\n",
        "\n",
        "golden_dataset = pd.DataFrame(data, columns=columns)"
      ]
    },
    {
      "cell_type": "markdown",
      "source": [
        "# Preview the dataset"
      ],
      "metadata": {
        "id": "fAeh4efkZSxe"
      }
    },
    {
      "cell_type": "code",
      "execution_count": null,
      "metadata": {
        "id": "4NnMJHK6y0r2"
      },
      "outputs": [],
      "source": [
        "pd.set_option('display.max_colwidth', None)\n",
        "golden_dataset.head(5)"
      ]
    },
    {
      "cell_type": "code",
      "source": [
        "definition = DataDefinition(\n",
        "    text_columns=[\"question\", \"target_response\", \"new_response\"],\n",
        "    categorical_columns=[\"label\"]\n",
        "    )"
      ],
      "metadata": {
        "id": "TxS43-M7GOEQ"
      },
      "execution_count": null,
      "outputs": []
    },
    {
      "cell_type": "code",
      "source": [
        "eval_dataset = Dataset.from_pandas(\n",
        "    pd.DataFrame(golden_dataset),\n",
        "    data_definition=definition)"
      ],
      "metadata": {
        "id": "jmp8HGvvGEen"
      },
      "execution_count": null,
      "outputs": []
    },
    {
      "cell_type": "markdown",
      "source": [
        "Preview the distribution of classes:"
      ],
      "metadata": {
        "id": "jYTDRwu9I3PG"
      }
    },
    {
      "cell_type": "code",
      "source": [
        "report = Report([\n",
        "  ValueStats(column=\"label\")\n",
        "])\n",
        "\n",
        "my_eval = report.run(eval_dataset, None)\n",
        "my_eval\n",
        "\n",
        "# my_eval.dict()\n",
        "# my_eval.json()"
      ],
      "metadata": {
        "id": "yUZkYba1Gv7N"
      },
      "execution_count": null,
      "outputs": []
    },
    {
      "cell_type": "markdown",
      "metadata": {
        "id": "uifPvCmI34sj"
      },
      "source": [
        "# Design the LLM judge"
      ]
    },
    {
      "cell_type": "markdown",
      "source": [
        "Judge to compare correctness of the response to reference."
      ],
      "metadata": {
        "id": "j3zPanZttrRX"
      }
    },
    {
      "cell_type": "code",
      "source": [
        "correctness = BinaryClassificationPromptTemplate(\n",
        "        criteria = \"\"\"An ANSWER is correct when it is the same as the REFERENCE in all facts and details, even if worded differently.\n",
        "        The ANSWER is incorrect if it contradicts the REFERENCE, adds additional claims, omits or changes details.\n",
        "        REFERENCE:\n",
        "        =====\n",
        "        {target_response}\n",
        "        =====\"\"\",\n",
        "        target_category=\"incorrect\",\n",
        "        non_target_category=\"correct\",\n",
        "        uncertainty=\"unknown\",\n",
        "        include_reasoning=True,\n",
        "        pre_messages=[(\"system\", \"You are an expert evaluator. You will be given an ANSWER and REFERENCE\")],\n",
        "        )"
      ],
      "metadata": {
        "id": "_sffWYx5u_ny"
      },
      "execution_count": null,
      "outputs": []
    },
    {
      "cell_type": "code",
      "source": [
        "eval_dataset.add_descriptors(descriptors=[\n",
        "    LLMEval(\"new_response\",\n",
        "            template=correctness,\n",
        "            provider = \"openai\",\n",
        "            model = \"gpt-4o-mini\",\n",
        "            alias=\"Correctness\",\n",
        "            additional_columns={\"target_response\": \"target_response\"}),\n",
        "    ])"
      ],
      "metadata": {
        "id": "2StzdtAvvNBn"
      },
      "execution_count": null,
      "outputs": []
    },
    {
      "cell_type": "markdown",
      "source": [
        "See the raw scores with explanation:"
      ],
      "metadata": {
        "id": "JKPozp0wD4Y1"
      }
    },
    {
      "cell_type": "code",
      "source": [
        "eval_dataset.as_dataframe()"
      ],
      "metadata": {
        "id": "XTkFj_Fy5oHA"
      },
      "execution_count": null,
      "outputs": []
    },
    {
      "cell_type": "markdown",
      "source": [
        "Optional: add a column \"match\" so that you can sort by mismatches easily."
      ],
      "metadata": {
        "id": "iEbWJS-4rjaC"
      }
    },
    {
      "cell_type": "code",
      "source": [
        "eval_dataset.add_descriptors(descriptors=[\n",
        "    ExactMatch(columns=[\"label\", \"Correctness\"], alias=\"Judge_match\")])"
      ],
      "metadata": {
        "id": "WveO3zAcwjWr"
      },
      "execution_count": null,
      "outputs": []
    },
    {
      "cell_type": "code",
      "source": [
        "eval_dataset.as_dataframe()"
      ],
      "metadata": {
        "id": "EiJKbS0Fwhq4"
      },
      "execution_count": null,
      "outputs": []
    },
    {
      "cell_type": "code",
      "source": [
        "report = Report([\n",
        "    TextEvals()\n",
        "])\n",
        "\n",
        "my_eval = report.run(eval_dataset, None)\n",
        "my_eval"
      ],
      "metadata": {
        "id": "D3ew3Hh6rgEd"
      },
      "execution_count": null,
      "outputs": []
    },
    {
      "cell_type": "markdown",
      "source": [
        "# Evaluate the LLM judge quality"
      ],
      "metadata": {
        "id": "KcbRnaFcdKXa"
      }
    },
    {
      "cell_type": "markdown",
      "source": [
        "New dataset with data definition"
      ],
      "metadata": {
        "id": "gNBulfQDI9BF"
      }
    },
    {
      "cell_type": "code",
      "source": [
        "df=eval_dataset.as_dataframe()"
      ],
      "metadata": {
        "id": "XKrYzc7fF_DB"
      },
      "execution_count": null,
      "outputs": []
    },
    {
      "cell_type": "code",
      "source": [
        "definition_2 = DataDefinition(\n",
        "    classification=[BinaryClassification(\n",
        "        target=\"label\",\n",
        "        prediction_labels=\"Correctness\",\n",
        "        pos_label = \"incorrect\")],\n",
        "    categorical_columns=[\"label\", \"Correctness\"])"
      ],
      "metadata": {
        "id": "xPUIxJ08Cx7T"
      },
      "execution_count": null,
      "outputs": []
    },
    {
      "cell_type": "code",
      "source": [
        "class_dataset = Dataset.from_pandas(\n",
        "    pd.DataFrame(df),\n",
        "    data_definition=definition_2)"
      ],
      "metadata": {
        "id": "peuq9XjQFrN3"
      },
      "execution_count": null,
      "outputs": []
    },
    {
      "cell_type": "code",
      "source": [
        "report = Report([\n",
        "    ClassificationPreset()\n",
        "])\n",
        "\n",
        "my_eval = report.run(class_dataset, None)\n",
        "my_eval"
      ],
      "metadata": {
        "id": "CbbrngLGHgos"
      },
      "execution_count": null,
      "outputs": []
    },
    {
      "cell_type": "markdown",
      "source": [
        "# Verbosity eval"
      ],
      "metadata": {
        "id": "zuQYzjTEpfUr"
      }
    },
    {
      "cell_type": "code",
      "source": [
        "verbosity = BinaryClassificationPromptTemplate(\n",
        "        criteria = \"\"\"Conciseness refers to the quality of being brief and to the point, while still providing all necessary information.\n",
        "            A concise response should:\n",
        "            - Provide the necessary information without unnecessary details or repetition.\n",
        "            - Be brief yet comprehensive enough to address the query.\n",
        "            - Use simple and direct language to convey the message effectively.\"\"\",\n",
        "        target_category=\"concise\",\n",
        "        non_target_category=\"verbose\",\n",
        "        uncertainty=\"unknown\",\n",
        "        include_reasoning=True,\n",
        "        pre_messages=[(\"system\", \"You are an expert text evaluator. You will be given a text of the response to a user question.\")],\n",
        "        )"
      ],
      "metadata": {
        "id": "4gJOFHxApnKq"
      },
      "execution_count": null,
      "outputs": []
    },
    {
      "cell_type": "code",
      "source": [
        "eval_dataset.add_descriptors(descriptors=[\n",
        "    LLMEval(\"new_response\",\n",
        "            template=verbosity,\n",
        "            provider = \"openai\",\n",
        "            model = \"gpt-4o-mini\",\n",
        "            alias=\"Verbosity\")\n",
        "    ])"
      ],
      "metadata": {
        "id": "JRTxOyuarQHe"
      },
      "execution_count": null,
      "outputs": []
    },
    {
      "cell_type": "code",
      "source": [
        "report = Report([\n",
        "    TextEvals()\n",
        "])\n",
        "\n",
        "my_eval = report.run(eval_dataset, None)\n",
        "my_eval"
      ],
      "metadata": {
        "id": "s7iJ6m5GsGaI"
      },
      "execution_count": null,
      "outputs": []
    },
    {
      "cell_type": "code",
      "source": [
        "eval_dataset.as_dataframe()"
      ],
      "metadata": {
        "id": "hvw9iZolpkI0"
      },
      "execution_count": null,
      "outputs": []
    },
    {
      "cell_type": "markdown",
      "source": [
        "# Upload to Evidently Cloud"
      ],
      "metadata": {
        "id": "H_1eGyNh_XVn"
      }
    },
    {
      "cell_type": "code",
      "source": [
        "from evidently.ui.workspace import CloudWorkspace"
      ],
      "metadata": {
        "id": "JAMBLTIw_f2-"
      },
      "execution_count": null,
      "outputs": []
    },
    {
      "cell_type": "code",
      "source": [
        "# ws = CloudWorkspace(token=\"YOUR_API_TOKEN\", url=\"https://app.evidently.cloud\")"
      ],
      "metadata": {
        "id": "Mx--bQqf_Wmy"
      },
      "execution_count": null,
      "outputs": []
    },
    {
      "cell_type": "code",
      "source": [
        "# project = ws.create_project(\"LLM judge evals\", org_id=\"YOUR_TEAM_ID\")\n",
        "# project.description = \"My project description\"\n",
        "# project.save()"
      ],
      "metadata": {
        "id": "P6m1uiBD_a9A"
      },
      "execution_count": null,
      "outputs": []
    },
    {
      "cell_type": "code",
      "source": [
        "# ws.add_run(project.id, my_eval, include_data=True)"
      ],
      "metadata": {
        "id": "8PUB8pBH_4Kp"
      },
      "execution_count": null,
      "outputs": []
    }
  ],
  "metadata": {
    "colab": {
      "provenance": []
    },
    "kernelspec": {
      "display_name": "Python 3",
      "name": "python3"
    },
    "language_info": {
      "name": "python"
    }
  },
  "nbformat": 4,
  "nbformat_minor": 0
}
