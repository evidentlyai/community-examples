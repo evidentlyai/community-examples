{
 "cells": [
  {
   "cell_type": "markdown",
   "id": "dbaf5584-6998-4786-b96a-7384a113d44b",
   "metadata": {},
   "source": [
    "# RAG system backend"
   ]
  },
  {
   "cell_type": "code",
   "execution_count": null,
   "id": "81ec8fe5-0330-443f-976a-b80af7b10fc3",
   "metadata": {},
   "outputs": [],
   "source": [
    "import random\n",
    "import time\n",
    "import os\n",
    "import pandas as pd\n",
    "\n",
    "from openai import OpenAI\n",
    "from langchain.text_splitter import CharacterTextSplitter\n",
    "from langchain.docstore.document import Document\n",
    "from langchain.embeddings.openai import OpenAIEmbeddings\n",
    "from langchain.vectorstores import FAISS"
   ]
  },
  {
   "cell_type": "code",
   "execution_count": null,
   "id": "aa850ad3-7ade-45f0-9da0-ed38f2b5e994",
   "metadata": {},
   "outputs": [],
   "source": [
    "doc_dir = \"docs\""
   ]
  },
  {
   "cell_type": "code",
   "execution_count": null,
   "id": "d331b537-ad9c-4008-9586-1da385d255d5",
   "metadata": {},
   "outputs": [],
   "source": [
    "! ls docs"
   ]
  },
  {
   "cell_type": "code",
   "execution_count": null,
   "id": "e94ef552-e53c-4f4d-a9e2-92e83d07f2a9",
   "metadata": {},
   "outputs": [],
   "source": [
    "client = OpenAI() "
   ]
  },
  {
   "cell_type": "code",
   "execution_count": null,
   "id": "3d625139-e7c2-4362-acfa-70ef4b7bea3d",
   "metadata": {},
   "outputs": [],
   "source": [
    "def load_and_index_documents(doc_dir):\n",
    "    texts = []\n",
    "\n",
    "    for filename in os.listdir(doc_dir):\n",
    "        file_path = os.path.join(doc_dir, filename)\n",
    "        with open(file_path, \"r\", encoding=\"utf-8\") as f:\n",
    "            content = f.read()\n",
    "            texts.append(content)\n",
    "\n",
    "    text_splitter = CharacterTextSplitter(chunk_size=800, chunk_overlap=200)\n",
    "    documents = [Document(page_content=t) for t in texts]\n",
    "    chunks = text_splitter.split_documents(documents)\n",
    "\n",
    "    embeddings = OpenAIEmbeddings() #openai_api_key=OPENAI_API_KEY\n",
    "    vector_store = FAISS.from_documents(chunks, embeddings)\n",
    "\n",
    "    return vector_store"
   ]
  },
  {
   "cell_type": "code",
   "execution_count": null,
   "id": "61bd611e-806f-4448-8b0b-a2646065a176",
   "metadata": {},
   "outputs": [],
   "source": [
    "# Search the index for relevant information\n",
    "def search_documents(query, vector_store):\n",
    "    search_results = vector_store.similarity_search(query, k=5)  \n",
    "    context = \"\\n\".join([doc.page_content for doc in search_results])\n",
    "    return context\n",
    "\n",
    "\n",
    "def response_generator(prompt, context):\n",
    "    messages = [\n",
    "        {\"role\":\"system\", \"content\":f\"retrieved context: {context}\"},\n",
    "        {\"role\":\"user\", \"content\":prompt},\n",
    "    ]\n",
    "    \n",
    "    response = client.chat.completions.create(\n",
    "        model=\"gpt-4o-mini\",\n",
    "        messages=messages,\n",
    "        stream=False\n",
    "    )\n",
    "\n",
    "\n",
    "    return response.choices[0].message.content if response.choices[0] else None"
   ]
  },
  {
   "cell_type": "code",
   "execution_count": null,
   "id": "5e937905-3098-43ad-9808-b2ee1aa9d5a9",
   "metadata": {
    "scrolled": true
   },
   "outputs": [],
   "source": [
    "vector_store = load_and_index_documents(doc_dir)"
   ]
  },
  {
   "cell_type": "code",
   "execution_count": null,
   "id": "eb167968-f9c4-4f5a-9101-ac1aed016a83",
   "metadata": {},
   "outputs": [],
   "source": [
    "questions = [\n",
    "    \"What is Evidently?\",\n",
    "    \"How do I get a Data Drift report?\",\n",
    "    \"Are LLMs suppirted in Evidently?\"\n",
    "]"
   ]
  },
  {
   "cell_type": "code",
   "execution_count": null,
   "id": "87322f70-93ec-4ba3-8815-fc926fb1b14a",
   "metadata": {},
   "outputs": [],
   "source": [
    "answers = [response_generator(question, search_documents(question, vector_store)) for question in questions]"
   ]
  },
  {
   "cell_type": "code",
   "execution_count": null,
   "id": "3f057ba2-33cd-4d8b-b40a-299651273a60",
   "metadata": {},
   "outputs": [],
   "source": [
    "for answer in answers:\n",
    "    print(answer)\n",
    "    print(\"\\n\")"
   ]
  },
  {
   "cell_type": "markdown",
   "id": "846661cd-ab52-45d3-b905-9b966785f2a9",
   "metadata": {},
   "source": [
    "# RAG evaluation"
   ]
  },
  {
   "cell_type": "code",
   "execution_count": null,
   "id": "a26f5949-a57c-459c-a0f5-8fee76cf9eee",
   "metadata": {},
   "outputs": [],
   "source": [
    "from evidently.ui.workspace.cloud import CloudWorkspace\n",
    "from evidently.future.datasets import Dataset\n",
    "from evidently.future.datasets import DataDefinition\n",
    "from evidently.future.datasets import Descriptor\n",
    "from evidently.future.descriptors import *\n",
    "from evidently.future.report import Report\n",
    "from evidently.future.presets import TextEvals\n",
    "from evidently.future.metrics import *\n",
    "from evidently.future.tests import *"
   ]
  },
  {
   "cell_type": "markdown",
   "id": "2f27a68b-0c7f-4dea-8836-1743d2cd89c5",
   "metadata": {},
   "source": [
    "### connect to the cloud"
   ]
  },
  {
   "cell_type": "code",
   "execution_count": null,
   "id": "e7ad4ec7-e0eb-4cd0-a726-4e2b225ff7ef",
   "metadata": {},
   "outputs": [],
   "source": [
    "API_KEY = 'YOUR KEY HERE'"
   ]
  },
  {
   "cell_type": "markdown",
   "id": "f35c358e-bc2d-4290-8864-865d34b2f6d8",
   "metadata": {},
   "source": [
    "### dataset-based evaluation"
   ]
  },
  {
   "cell_type": "code",
   "execution_count": null,
   "id": "8a1ba86d-afb2-48ec-9edb-da312558776a",
   "metadata": {},
   "outputs": [],
   "source": [
    "ws = CloudWorkspace(token=API_KEY, url=\"https://app.evidently.cloud\")"
   ]
  },
  {
   "cell_type": "code",
   "execution_count": null,
   "id": "a38026d4-7910-41b8-b66a-0b0da639de1f",
   "metadata": {},
   "outputs": [],
   "source": [
    "project = ws.get_project(\"PROJECT ID\")"
   ]
  },
  {
   "cell_type": "code",
   "execution_count": null,
   "id": "486fd7fd-9ac1-4235-a728-7583773c1966",
   "metadata": {},
   "outputs": [],
   "source": [
    "test_df_full = ws.load_dataset(dataset_id = \"DATASET_ID\")"
   ]
  },
  {
   "cell_type": "code",
   "execution_count": null,
   "id": "c6d32dc4-5487-4187-a5d6-fa83c077a81b",
   "metadata": {},
   "outputs": [],
   "source": [
    "pd.set_option('display.max_colwidth', None)"
   ]
  },
  {
   "cell_type": "code",
   "execution_count": null,
   "id": "f817156a-125f-4e91-a292-7a533056f9fa",
   "metadata": {},
   "outputs": [],
   "source": [
    "test_df_full.head()"
   ]
  },
  {
   "cell_type": "code",
   "execution_count": null,
   "id": "39512707-6a9f-4688-8b25-589f446018c1",
   "metadata": {},
   "outputs": [],
   "source": [
    "test_df_full[\"context\"] = [\n",
    "    search_documents(question, vector_store) for question in test_df_full[\"questions\"]\n",
    "]"
   ]
  },
  {
   "cell_type": "code",
   "execution_count": null,
   "id": "defda03f-adad-41fc-b95c-0868844ec9e1",
   "metadata": {},
   "outputs": [],
   "source": [
    "test_df_full[\"generated_answers\"] = [\n",
    "    response_generator(test_df_full.loc[i, \"questions\"], test_df_full.loc[i, \"context\"]) for i in range(test_df_full.shape[0])\n",
    "]"
   ]
  },
  {
   "cell_type": "code",
   "execution_count": null,
   "id": "6a59ebe0-d5f0-499e-b0c8-5bc51edf6506",
   "metadata": {},
   "outputs": [],
   "source": [
    "test_df_full.head()"
   ]
  },
  {
   "cell_type": "code",
   "execution_count": null,
   "id": "4a880bd8-7571-45a4-8d92-6f269fe9dffe",
   "metadata": {},
   "outputs": [],
   "source": [
    "context_based_evals = Dataset.from_pandas(\n",
    "    pd.DataFrame(test_df_full),\n",
    "    data_definition=DataDefinition(\n",
    "        text_columns=[\"questions\", \"answers\", \"generated_answers\", \"context\"],\n",
    "    ),\n",
    "    descriptors=[\n",
    "        CorrectnessLLMEval(\"generated_answers\", target_output=\"answers\"),\n",
    "        FaithfulnessLLMEval(\"generated_answers\", context=\"context\"),\n",
    "    ]\n",
    ")\n",
    "context_based_evals.as_dataframe()"
   ]
  },
  {
   "cell_type": "code",
   "execution_count": null,
   "id": "c73a46ed-76cd-4579-80ed-9159684fa0a3",
   "metadata": {},
   "outputs": [],
   "source": [
    "report = Report([\n",
    "    TextEvals()\n",
    "])\n",
    "\n",
    "my_eval = report.run(context_based_evals, None)\n",
    "my_eval"
   ]
  },
  {
   "cell_type": "code",
   "execution_count": null,
   "id": "f6fe1f5a-8306-49cf-8d0e-89d677abae34",
   "metadata": {},
   "outputs": [],
   "source": [
    "ws.add_run(project.id, my_eval, include_data=True)"
   ]
  }
 ],
 "metadata": {
  "kernelspec": {
   "display_name": "Python 3 (ipykernel)",
   "language": "python",
   "name": "python3"
  },
  "language_info": {
   "codemirror_mode": {
    "name": "ipython",
    "version": 3
   },
   "file_extension": ".py",
   "mimetype": "text/x-python",
   "name": "python",
   "nbconvert_exporter": "python",
   "pygments_lexer": "ipython3",
   "version": "3.11.11"
  }
 },
 "nbformat": 4,
 "nbformat_minor": 5
}
